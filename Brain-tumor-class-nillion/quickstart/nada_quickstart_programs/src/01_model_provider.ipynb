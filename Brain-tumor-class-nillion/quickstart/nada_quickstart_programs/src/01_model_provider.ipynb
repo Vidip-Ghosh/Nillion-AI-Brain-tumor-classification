{
 "cells": [
  {
   "cell_type": "markdown",
   "metadata": {},
   "source": [
    "# Multi-layer perceptron"
   ]
  },
  {
   "cell_type": "code",
   "execution_count": 36,
   "metadata": {},
   "outputs": [],
   "source": [
    "## If problems arise with the loading of the shared library, this script can be used to load the shared library before other libraries.\n",
    "## Remember to also run on your local machine the script below:\n",
    "# bash replace_lib_version.sh\n",
    "\n",
    "import platform\n",
    "import ctypes\n",
    "\n",
    "# if platform.system() == \"Linux\":\n",
    "#     # Force libgomp to be loaded before other libraries consuming dynamic TLS (to avoid running out of STATIC_TLS)\n",
    "#     ctypes.cdll.LoadLibrary(\"libgomp.so.1\")\n",
    "#     ctypes.cdll.LoadLibrary(\n",
    "#         \"/home/vscode/.local/lib/python3.12/site-packages/py_nillion_client/py_nillion_client.abi3.so\"\n",
    "#     )"
   ]
  },
  {
   "cell_type": "code",
   "execution_count": 37,
   "metadata": {},
   "outputs": [
    {
     "name": "stdout",
     "output_type": "stream",
     "text": [
      "/home/brglt/Desktop/nillion/quickstart/nada_quickstart_programs\n"
     ]
    },
    {
     "data": {
      "text/plain": [
       "True"
      ]
     },
     "execution_count": 37,
     "metadata": {},
     "output_type": "execute_result"
    }
   ],
   "source": [
    "import os\n",
    "import sys\n",
    "\n",
    "sys.path.append(os.path.abspath(os.path.join(os.getcwd(), os.pardir)))\n",
    "print(os.path.abspath(os.path.join(os.getcwd(), os.pardir)))\n",
    "import json\n",
    "import nada_numpy as na\n",
    "import numpy as np\n",
    "import py_nillion_client as nillion\n",
    "import torch\n",
    "from common.utils import store_program, store_secrets\n",
    "from cosmpy.aerial.client import LedgerClient\n",
    "from cosmpy.aerial.wallet import LocalWallet\n",
    "from cosmpy.crypto.keypairs import PrivateKey\n",
    "from dotenv import load_dotenv\n",
    "from nada_ai.client import TorchClient\n",
    "from nillion_python_helpers import (create_nillion_client,\n",
    "                                    create_payments_config)\n",
    "from py_nillion_client import NodeKey, UserKey\n",
    "\n",
    "from torch import nn\n",
    "from torchvision import transforms\n",
    "from sklearn.metrics import (\n",
    "    confusion_matrix,\n",
    "    ConfusionMatrixDisplay,\n",
    "    precision_recall_fscore_support,\n",
    ")\n",
    "import matplotlib.pyplot as plt\n",
    "from PIL import Image\n",
    "import numpy as np\n",
    "\n",
    "home = os.getenv(\"HOME\")\n",
    "load_dotenv(f\"{home}/.config/nillion/nillion-devnet.env\")"
   ]
  },
  {
   "cell_type": "code",
   "execution_count": 38,
   "metadata": {},
   "outputs": [],
   "source": [
    "!kaggle datasets download -d masoudnickparvar/brain-tumor-mri-dataset"
   ]
  },
  {
   "cell_type": "markdown",
   "metadata": {},
   "source": [
    "# Data preprocessing and augmentation"
   ]
  },
  {
   "cell_type": "code",
   "execution_count": null,
   "metadata": {},
   "outputs": [],
   "source": [
    "data_transforms = transforms.Compose([\n",
    "    transforms.Resize((224, 224)),\n",
    "    transforms.RandomHorizontalFlip(),\n",
    "    transforms.RandomRotation(10),\n",
    "    transforms.ToTensor(),\n",
    "    transforms.Normalize(mean=[0.485, 0.456, 0.406], std=[0.229, 0.224, 0.225])\n",
    "])\n",
    "\n",
    "\n",
    "train_dataset = ImageFolder('/content/Training', transform=data_transforms)\n",
    "train_loader = DataLoader(train_dataset, batch_size=16, shuffle=True)\n",
    "\n",
    "val_dataset = ImageFolder('/content/Testing', transform=data_transforms)\n",
    "val_loader = DataLoader(val_dataset, batch_size=16, shuffle=False)"
   ]
  },
  {
   "cell_type": "markdown",
   "metadata": {},
   "source": [
    "# Load a batch of images and labels for visualization"
   ]
  },
  {
   "cell_type": "code",
   "execution_count": null,
   "metadata": {},
   "outputs": [],
   "source": [
    "data_iter = iter(train_loader)\n",
    "images, labels = next(data_iter)\n",
    "\n",
    "# Convert images to numpy arrays and denormalize\n",
    "mean = np.array([0.485, 0.456, 0.406])\n",
    "std = np.array([0.229, 0.224, 0.225])\n",
    "images = (images.numpy().transpose((0, 2, 3, 1)) * std + mean).clip(0, 1)\n",
    "\n",
    "# Create a grid of images\n",
    "num_images = len(images)\n",
    "rows = int(np.ceil(num_images / 4))\n",
    "fig, axes = plt.subplots(rows, 4, figsize=(15, 15))\n",
    "\n",
    "# Plot images with labels\n",
    "for i, ax in enumerate(axes.flat):\n",
    "    if i < num_images:\n",
    "        ax.imshow(images[i])\n",
    "        ax.set_title(f'Label: {train_dataset.classes[labels[i]]}')\n",
    "    ax.axis('off')\n",
    "\n",
    "plt.tight_layout()\n",
    "plt.show()"
   ]
  },
  {
   "cell_type": "markdown",
   "metadata": {},
   "source": [
    "# Model Architecture"
   ]
  },
  {
   "cell_type": "code",
   "execution_count": 39,
   "metadata": {},
   "outputs": [],
   "source": [
    "class TumorClassifier(nn.Module):\n",
    "    def __init__(self, num_classes):\n",
    "        super(TumorClassifier, self).__init__()\n",
    "        self.features = nn.Sequential(\n",
    "            nn.Conv2d(3, 16, kernel_size=3, padding=1),\n",
    "            nn.ReLU(inplace=True),\n",
    "            nn.MaxPool2d(kernel_size=2, stride=2),\n",
    "            nn.Conv2d(16, 32, kernel_size=3, padding=1),\n",
    "            nn.ReLU(inplace=True),\n",
    "            nn.MaxPool2d(kernel_size=2, stride=2)\n",
    "        )\n",
    "        self.classifier = nn.Sequential(\n",
    "            nn.Linear(32 * 56 * 56, 128),\n",
    "            nn.ReLU(inplace=True),\n",
    "            nn.Linear(128, num_classes)\n",
    "        )\n",
    "\n",
    "    def forward(self, x):\n",
    "        x = self.features(x)\n",
    "        x = x.view(x.size(0), -1)\n",
    "        x = self.classifier(x)\n",
    "        return x\n",
    "\n",
    "model = TumorClassifier(num_classes=4)\n",
    "# Load a pre-trained ResNet model and modify the classifier\n",
    "model.to(device)"
   ]
  },
  {
   "cell_type": "markdown",
   "metadata": {},
   "source": [
    "# Model Training"
   ]
  },
  {
   "cell_type": "code",
   "execution_count": null,
   "metadata": {},
   "outputs": [],
   "source": [
    "# Initialize lists to store training history\n",
    "train_losses = []\n",
    "val_losses = []\n",
    "train_accuracies = []\n",
    "val_accuracies = []"
   ]
  },
  {
   "cell_type": "code",
   "execution_count": 45,
   "metadata": {},
   "outputs": [
    {
     "name": "stdout",
     "output_type": "stream",
     "text": [
      "Starting epoch 1...\n",
      "Loss after mini-batch   100: 0.693\n",
      "Accuracy after mini-batch   100: 51.375\n",
      "Loss after mini-batch   200: 0.691\n",
      "Accuracy after mini-batch   200: 53.812\n",
      "Loss after mini-batch   300: 0.688\n",
      "Accuracy after mini-batch   300: 54.750\n",
      "Loss after mini-batch   400: 0.686\n",
      "Accuracy after mini-batch   400: 54.812\n",
      "Loss after mini-batch   500: 0.688\n",
      "Accuracy after mini-batch   500: 52.500\n",
      "Starting epoch 2...\n",
      "Loss after mini-batch   100: 0.684\n",
      "Accuracy after mini-batch   100: 54.250\n",
      "Loss after mini-batch   200: 0.683\n",
      "Accuracy after mini-batch   200: 54.000\n",
      "Loss after mini-batch   300: 0.684\n",
      "Accuracy after mini-batch   300: 53.250\n",
      "Loss after mini-batch   400: 0.683\n",
      "Accuracy after mini-batch   400: 52.688\n",
      "Loss after mini-batch   500: 0.683\n",
      "Accuracy after mini-batch   500: 52.125\n",
      "Starting epoch 3...\n",
      "Loss after mini-batch   100: 0.678\n",
      "Accuracy after mini-batch   100: 55.000\n",
      "Loss after mini-batch   200: 0.677\n",
      "Accuracy after mini-batch   200: 55.438\n",
      "Loss after mini-batch   300: 0.677\n",
      "Accuracy after mini-batch   300: 57.000\n",
      "Loss after mini-batch   400: 0.672\n",
      "Accuracy after mini-batch   400: 58.562\n",
      "Loss after mini-batch   500: 0.672\n",
      "Accuracy after mini-batch   500: 59.312\n"
     ]
    }
   ],
   "source": [
    "num_epochs = 20\n",
    "best_val_accuracy = 0.0\n",
    "\n",
    "for epoch in range(num_epochs):\n",
    "    model.train()\n",
    "    train_loss = 0.0\n",
    "    correct = 0\n",
    "    total = 0\n",
    "\n",
    "    for batch_idx, (inputs, labels) in enumerate(train_loader):\n",
    "        inputs, labels = inputs.to(device), labels.to(device)\n",
    "\n",
    "        optimizer.zero_grad()\n",
    "        outputs = model(inputs)\n",
    "        loss = criterion(outputs, labels)\n",
    "        loss.backward()\n",
    "        optimizer.step()\n",
    "\n",
    "        train_loss += loss.item()\n",
    "        _, predicted = torch.max(outputs, 1)\n",
    "        total += labels.size(0)\n",
    "        correct += (predicted == labels).sum().item()\n",
    "\n",
    "    train_accuracy = correct / total\n",
    "    train_losses.append(train_loss)\n",
    "    train_accuracies.append(train_accuracy)\n",
    "\n",
    "    # Validation\n",
    "    model.eval()\n",
    "    val_loss = 0.0\n",
    "    correct = 0\n",
    "    total = 0\n",
    "\n",
    "    with torch.no_grad():\n",
    "        for inputs, labels in val_loader:\n",
    "            inputs, labels = inputs.to(device), labels.to(device)\n",
    "            outputs = model(inputs)\n",
    "            loss = criterion(outputs, labels)\n",
    "\n",
    "            val_loss += loss.item()\n",
    "            _, predicted = torch.max(outputs, 1)\n",
    "            total += labels.size(0)\n",
    "            correct += (predicted == labels).sum().item()\n",
    "\n",
    "    val_loss /= len(val_loader)\n",
    "    val_accuracy = correct / total\n",
    "    val_losses.append(val_loss)\n",
    "    val_accuracies.append(val_accuracy)\n",
    "\n",
    "    print(f'Epoch [{epoch+1}/{num_epochs}], '\n",
    "          f'Training Loss: {train_loss:.4f}, Training Accuracy: {train_accuracy:.2%}, '\n",
    "          f'Validation Loss: {val_loss:.4f}, Validation Accuracy: {val_accuracy:.2%}')\n",
    "\n",
    "\n",
    "    # Save the best model\n",
    "    if val_accuracy > best_val_accuracy:\n",
    "        best_val_accuracy = val_accuracy\n",
    "        torch.save(model.state_dict(), 'best_model.pth')"
   ]
  },
  {
   "cell_type": "markdown",
   "metadata": {},
   "source": [
    "# Visualize training history"
   ]
  },
  {
   "cell_type": "code",
   "execution_count": 46,
   "metadata": {},
   "outputs": [
    {
     "data": {
      "text/plain": [
       "[<matplotlib.lines.Line2D at 0x7a0c04fe5880>]"
      ]
     },
     "execution_count": 46,
     "metadata": {},
     "output_type": "execute_result"
    },
    {
     "data": {
      "image/png": "[encoded data removed]",
      "text/plain": [
       "<Figure size 640x480 with 1 Axes>"
      ]
     },
     "metadata": {},
     "output_type": "display_data"
    }
   ],
   "source": [
    "plt.figure(figsize=(12, 6))\n",
    "plt.subplot(1, 2, 1)\n",
    "plt.plot(train_losses, label='Training Loss')\n",
    "plt.plot(val_losses, label='Validation Loss')\n",
    "plt.xlabel('Epoch')\n",
    "plt.ylabel('Loss')\n",
    "plt.legend()\n",
    "plt.title('Loss History')\n",
    "\n",
    "plt.subplot(1, 2, 2)\n",
    "plt.plot(train_accuracies, label='Training Accuracy')\n",
    "plt.plot(val_accuracies, label='Validation Accuracy')\n",
    "plt.xlabel('Epoch')\n",
    "plt.ylabel('Accuracy')\n",
    "plt.legend()\n",
    "plt.title('Accuracy History')\n",
    "\n",
    "plt.tight_layout()\n",
    "plt.show()"
   ]
  },
  {
   "cell_type": "markdown",
   "metadata": {},
   "source": [
    "# Classification report "
   ]
  },
  {
   "cell_type": "code",
   "execution_count": 47,
   "metadata": {},
   "outputs": [
    {
     "data": {
      "text/plain": [
       "[<matplotlib.lines.Line2D at 0x7a0be5e202f0>]"
      ]
     },
     "execution_count": 47,
     "metadata": {},
     "output_type": "execute_result"
    },
    {
     "data": {
      "image/png": "[encoded data removed]",
      "text/plain": [
       "<Figure size 640x480 with 1 Axes>"
      ]
     },
     "metadata": {},
     "output_type": "display_data"
    }
   ],
   "source": [
    "from sklearn.metrics import confusion_matrix, classification_report\n",
    "\n",
    "# Load the best model weights\n",
    "model.load_state_dict(torch.load('best_model.pth'))\n",
    "\n",
    "# Set the model to evaluation mode\n",
    "model.eval()\n",
    "\n",
    "# Prepare the test dataset\n",
    "test_dataset = ImageFolder('/content/Testing', transform=data_transforms)\n",
    "test_loader = DataLoader(test_dataset, batch_size=16, shuffle=False)\n",
    "\n",
    "# Initialize lists to store true labels and predicted labels\n",
    "true_labels = []\n",
    "pred_labels = []\n",
    "\n",
    "# Test the model\n",
    "with torch.no_grad():\n",
    "    for inputs, labels in test_loader:\n",
    "        inputs, labels = inputs.to(device), labels.to(device)\n",
    "        outputs = model(inputs)\n",
    "        _, predicted = torch.max(outputs, 1)\n",
    "\n",
    "        true_labels.extend(labels.cpu().numpy())\n",
    "        pred_labels.extend(predicted.cpu().numpy())\n",
    "\n",
    "# Calculate accuracy\n",
    "accuracy = np.mean(np.array(true_labels) == np.array(pred_labels))\n",
    "print(f'Test Accuracy: {accuracy:.2%}')\n",
    "\n",
    "# Print classification report\n",
    "print(classification_report(true_labels, pred_labels, target_names=test_dataset.classes))\n",
    "\n",
    "# Print confusion matrix\n",
    "conf_matrix = confusion_matrix(true_labels, pred_labels)\n",
    "print('Confusion Matrix:')\n",
    "print(conf_matrix)\n"
   ]
  },
  {
   "cell_type": "markdown",
   "metadata": {},
   "source": [
    "## Model Provider flow"
   ]
  },
  {
   "cell_type": "markdown",
   "metadata": {},
   "source": [
    "### Authenticate with Nillion"
   ]
  },
  {
   "cell_type": "markdown",
   "metadata": {},
   "source": [
    "To connect to the Nillion network, we need to have a user key and a node key. These serve different purposes:\n",
    "\n",
    "The `user_key` is the user's private key. The user key should never be shared publicly, as it unlocks access and permissions to secrets stored on the network.\n",
    "\n",
    "The `node_key` is the node's private key which is run locally to connect to the network."
   ]
  },
  {
   "cell_type": "code",
   "execution_count": 51,
   "metadata": {},
   "outputs": [
    {
     "name": "stdout",
     "output_type": "stream",
     "text": [
      "/home/brglt/Desktop/nillion/quickstart/nada_quickstart_programs/src\n"
     ]
    }
   ],
   "source": [
    "# Load all Nillion network environment variables\n",
    "# assert os.getcwd().endswith(\n",
    "#     \"examples/multi_layer_perceptron\"\n",
    "# ), \"Please run this script from the examples/multi_layer_perceptron directory otherwise, the rest of the tutorial may not work\"\n",
    "# load_dotenv()\n",
    "print(os.getcwd())"
   ]
  },
  {
   "cell_type": "code",
   "execution_count": 14,
   "metadata": {},
   "outputs": [],
   "source": [
    "cluster_id = os.getenv(\"NILLION_CLUSTER_ID\")\n",
    "grpc_endpoint = os.getenv(\"NILLION_NILCHAIN_GRPC\")\n",
    "chain_id = os.getenv(\"NILLION_NILCHAIN_CHAIN_ID\")\n",
    "seed = \"my_seed\"\n",
    "model_provider_userkey = UserKey.from_seed((seed))\n",
    "model_provider_nodekey = NodeKey.from_seed((seed))\n",
    "model_provider_client = create_nillion_client(model_provider_userkey, model_provider_nodekey)\n",
    "model_provider_party_id = model_provider_client.party_id\n",
    "model_provider_user_id = model_provider_client.user_id"
   ]
  },
  {
   "cell_type": "code",
   "execution_count": 1,
   "metadata": {},
   "outputs": [
    {
     "name": "stdout",
     "output_type": "stream",
     "text": [
      "Error: compilation failed\n",
      "\n",
      "Caused by:\n",
      "    Traceback (most recent call last):\n",
      "      File \"/home/brglt/miniconda3/envs/ml/lib/python3.12/site-packages/nada_dsl/compile.py\", line 43, in compile\n",
      "        main = getattr(script, \"nada_main\")\n",
      "               ^^^^^^^^^^^^^^^^^^^^^^^^^^^^\n",
      "    AttributeError: module 'nn' has no attribute 'nada_main'\n",
      "    \n",
      "    During handling of the above exception, another exception occurred:\n",
      "    \n",
      "    Traceback (most recent call last):\n",
      "      File \"/home/brglt/miniconda3/envs/ml/lib/python3.12/site-packages/nada_dsl/compile.py\", line 97, in <module>\n",
      "        output = compile(sys.argv[1])\n",
      "                 ^^^^^^^^^^^^^^^^^^^^\n",
      "      File \"/home/brglt/miniconda3/envs/ml/lib/python3.12/site-packages/nada_dsl/timer.py\", line 116, in wrapper\n",
      "        value = func(*args, **kwargs)\n",
      "                ^^^^^^^^^^^^^^^^^^^^^\n",
      "      File \"/home/brglt/miniconda3/envs/ml/lib/python3.12/site-packages/nada_dsl/compile.py\", line 45, in compile\n",
      "        raise Exception(\n",
      "    Exception: 'nada_dsl' entrypoint function is missing in program nn\n",
      "    \n"
     ]
    }
   ],
   "source": [
    "!pynadac /home/brglt/Desktop/nillion/quickstart/nada_quickstart_programs/src/nn.py"
   ]
  },
  {
   "cell_type": "code",
   "execution_count": 15,
   "metadata": {},
   "outputs": [],
   "source": [
    "party_names = [\"Provider\", \"User\"]\n",
    "program_name = \"multi_layer_perceptron\"\n",
    "program_mir_path = f\"target/{program_name}.nada.bin\""
   ]
  },
  {
   "cell_type": "code",
   "execution_count": 16,
   "metadata": {},
   "outputs": [],
   "source": [
    "payments_config = create_payments_config(chain_id, grpc_endpoint)\n",
    "payments_client = LedgerClient(payments_config)\n",
    "payments_wallet = LocalWallet(\n",
    "    PrivateKey(bytes.fromhex(os.getenv(\"NILLION_NILCHAIN_PRIVATE_KEY_0\"))),\n",
    "    prefix=\"nillion\",\n",
    ")"
   ]
  },
  {
   "cell_type": "markdown",
   "metadata": {},
   "source": [
    "### Upload Nada program to Nillion"
   ]
  },
  {
   "cell_type": "markdown",
   "metadata": {},
   "source": [
    "TODO: explain what the Nada program does"
   ]
  },
  {
   "cell_type": "code",
   "execution_count": 17,
   "metadata": {},
   "outputs": [
    {
     "name": "stdout",
     "output_type": "stream",
     "text": [
      "Getting quote for operation...\n",
      "Submitting payment receipt 2 unil, tx hash 32054F2BE5EED437390CDF7A782C6659B8F0C178A398CCF346178E2827C554DB\n",
      "Stored program. action_id: 3rgqxWd47e171EUwe4RXP9hm45tmoXfuF8fC52S7jcFoQTnU8wPiL7hqWzyV1muak6bEg7iWhudwg4t2pM9XnXcp/multi_layer_perceptron\n",
      "Stored program_id: 3rgqxWd47e171EUwe4RXP9hm45tmoXfuF8fC52S7jcFoQTnU8wPiL7hqWzyV1muak6bEg7iWhudwg4t2pM9XnXcp/multi_layer_perceptron\n"
     ]
    }
   ],
   "source": [
    "program_id = await store_program(\n",
    "    model_provider_client,\n",
    "    payments_wallet,\n",
    "    payments_client,\n",
    "    model_provider_user_id,\n",
    "    cluster_id,\n",
    "    program_name,\n",
    "    program_mir_path,\n",
    ")"
   ]
  },
  {
   "cell_type": "markdown",
   "metadata": {},
   "source": [
    "### Upload weights to Nillion network"
   ]
  },
  {
   "cell_type": "code",
   "execution_count": 18,
   "metadata": {},
   "outputs": [],
   "source": [
    "# Create and store model secrets via ModelClient\n",
    "model_client = TorchClient(my_model)"
   ]
  },
  {
   "cell_type": "code",
   "execution_count": 19,
   "metadata": {},
   "outputs": [
    {
     "name": "stdout",
     "output_type": "stream",
     "text": [
      "Getting quote for operation...\n",
      "Quote cost is 5570 unil\n",
      "Submitting payment receipt 5570 unil, tx hash 6A9CB2D7060BE85272B383A6F23E71D34B10B87D27F21173004990831868683A\n"
     ]
    }
   ],
   "source": [
    "model_secrets = nillion.NadaValues(\n",
    "    model_client.export_state_as_secrets(\"my_nn\", na.SecretRational)\n",
    ")\n",
    "permissions = nillion.Permissions.default_for_user(model_provider_client.user_id)\n",
    "permissions.add_compute_permissions({model_provider_client.user_id: {program_id}})\n",
    "\n",
    "model_store_id = await store_secrets(\n",
    "    model_provider_client,\n",
    "    payments_wallet,\n",
    "    payments_client,\n",
    "    cluster_id,\n",
    "    model_secrets,\n",
    "    1,\n",
    "    permissions,\n",
    ")"
   ]
  },
  {
   "cell_type": "code",
   "execution_count": 20,
   "metadata": {},
   "outputs": [],
   "source": [
    "# This information is needed by the model user\n",
    "with open(\"data/tmp.json\", \"w\") as provider_variables_file:\n",
    "    provider_variables = {\n",
    "        \"program_id\": program_id,\n",
    "        \"model_store_id\": model_store_id,\n",
    "        \"model_provider_party_id\": model_provider_party_id,\n",
    "    }\n",
    "    json.dump(provider_variables, provider_variables_file)"
   ]
  },
  {
   "cell_type": "code",
   "execution_count": 21,
   "metadata": {},
   "outputs": [],
   "source": [
    "torch.save(my_model.state_dict(), \"./data/my_model.pt\")"
   ]
  }
 ],
 "metadata": {
  "kernelspec": {
   "display_name": "Python 3",
   "language": "python",
   "name": "python3"
  },
  "language_info": {
   "codemirror_mode": {
    "name": "ipython",
    "version": 3
   },
   "file_extension": ".py",
   "mimetype": "text/x-python",
   "name": "python",
   "nbconvert_exporter": "python",
   "pygments_lexer": "ipython3",
   "version": "3.12.2"
  }
 },
 "nbformat": 4,
 "nbformat_minor": 2
}
