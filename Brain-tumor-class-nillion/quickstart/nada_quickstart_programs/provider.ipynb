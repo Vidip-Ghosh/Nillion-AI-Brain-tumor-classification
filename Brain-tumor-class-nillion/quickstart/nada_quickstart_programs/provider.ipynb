{
 "cells": [
  {
   "cell_type": "markdown",
   "metadata": {},
   "source": [
    "# Multi-layer perceptron"
   ]
  },
  {
   "cell_type": "code",
   "execution_count": 3,
   "metadata": {},
   "outputs": [
    {
     "name": "stdout",
     "output_type": "stream",
     "text": [
      "Collecting nada-dsl\n",
      "  Using cached nada_dsl-0.5.0-py3-none-any.whl.metadata (14 kB)\n",
      "Collecting asttokens~=2.4 (from nada-dsl)\n",
      "  Using cached asttokens-2.4.1-py2.py3-none-any.whl.metadata (5.2 kB)\n",
      "Collecting richreports~=0.2 (from nada-dsl)\n",
      "  Downloading richreports-0.2.0-py3-none-any.whl.metadata (6.8 kB)\n",
      "Collecting parsial~=0.1 (from nada-dsl)\n",
      "  Downloading parsial-0.1.0-py3-none-any.whl.metadata (7.0 kB)\n",
      "Collecting sortedcontainers~=2.4 (from nada-dsl)\n",
      "  Downloading sortedcontainers-2.4.0-py2.py3-none-any.whl.metadata (10 kB)\n",
      "Requirement already satisfied: six>=1.12.0 in c:\\python312\\lib\\site-packages (from asttokens~=2.4->nada-dsl) (1.16.0)\n",
      "Downloading nada_dsl-0.5.0-py3-none-any.whl (54 kB)\n",
      "   ---------------------------------------- 54.0/54.0 kB 695.2 kB/s eta 0:00:00\n",
      "Using cached asttokens-2.4.1-py2.py3-none-any.whl (27 kB)\n",
      "Downloading parsial-0.1.0-py3-none-any.whl (5.9 kB)\n",
      "Downloading richreports-0.2.0-py3-none-any.whl (7.5 kB)\n",
      "Using cached sortedcontainers-2.4.0-py2.py3-none-any.whl (29 kB)\n",
      "Installing collected packages: sortedcontainers, richreports, parsial, asttokens, nada-dsl\n",
      "Successfully installed asttokens-2.4.1 nada-dsl-0.5.0 parsial-0.1.0 richreports-0.2.0 sortedcontainers-2.4.0\n"
     ]
    },
    {
     "name": "stderr",
     "output_type": "stream",
     "text": [
      "\n",
      "[notice] A new release of pip is available: 24.0 -> 24.2\n",
      "[notice] To update, run: python.exe -m pip install --upgrade pip\n",
      "ERROR: Could not find a version that satisfies the requirement py_nillion_client (from versions: none)\n",
      "ERROR: No matching distribution found for py_nillion_client\n",
      "\n",
      "[notice] A new release of pip is available: 24.0 -> 24.2\n",
      "[notice] To update, run: python.exe -m pip install --upgrade pip\n"
     ]
    },
    {
     "name": "stdout",
     "output_type": "stream",
     "text": [
      "Collecting nillion-python-helpers\n",
      "  Using cached nillion_python_helpers-0.2.3-py3-none-any.whl.metadata (1.1 kB)\n",
      "Collecting cosmpy<0.10.0,>=0.9.2 (from nillion-python-helpers)\n",
      "  Downloading cosmpy-0.9.2-py3-none-any.whl.metadata (5.0 kB)\n",
      "Collecting pytest-asyncio<0.24.0,>=0.23.7 (from nillion-python-helpers)\n",
      "  Downloading pytest_asyncio-0.23.8-py3-none-any.whl.metadata (3.9 kB)\n",
      "Requirement already satisfied: python-dotenv==1.0.0 in c:\\python312\\lib\\site-packages (from nillion-python-helpers) (1.0.0)\n",
      "Collecting bech32 (from cosmpy<0.10.0,>=0.9.2->nillion-python-helpers)\n",
      "  Downloading bech32-1.2.0-py3-none-any.whl.metadata (1.1 kB)\n",
      "Collecting ecdsa (from cosmpy<0.10.0,>=0.9.2->nillion-python-helpers)\n",
      "  Downloading ecdsa-0.19.0-py2.py3-none-any.whl.metadata (29 kB)\n",
      "Collecting googleapis-common-protos (from cosmpy<0.10.0,>=0.9.2->nillion-python-helpers)\n",
      "  Downloading googleapis_common_protos-1.63.2-py2.py3-none-any.whl.metadata (1.5 kB)\n",
      "Collecting grpcio (from cosmpy<0.10.0,>=0.9.2->nillion-python-helpers)\n",
      "  Downloading grpcio-1.65.4-cp312-cp312-win_amd64.whl.metadata (3.4 kB)\n",
      "Collecting jsonschema<5,>=3.2.0 (from cosmpy<0.10.0,>=0.9.2->nillion-python-helpers)\n",
      "  Downloading jsonschema-4.23.0-py3-none-any.whl.metadata (7.9 kB)\n",
      "Collecting protobuf<5.0dev,>=4.21.6 (from cosmpy<0.10.0,>=0.9.2->nillion-python-helpers)\n",
      "  Downloading protobuf-4.25.4-cp310-abi3-win_amd64.whl.metadata (541 bytes)\n",
      "Collecting pycryptodome<4.0.0,>=3.18.0 (from cosmpy<0.10.0,>=0.9.2->nillion-python-helpers)\n",
      "  Downloading pycryptodome-3.20.0-cp35-abi3-win_amd64.whl.metadata (3.4 kB)\n",
      "Collecting python-dateutil (from cosmpy<0.10.0,>=0.9.2->nillion-python-helpers)\n",
      "  Using cached python_dateutil-2.9.0.post0-py2.py3-none-any.whl.metadata (8.4 kB)\n",
      "Collecting requests (from cosmpy<0.10.0,>=0.9.2->nillion-python-helpers)\n",
      "  Using cached requests-2.32.3-py3-none-any.whl.metadata (4.6 kB)\n",
      "Collecting pytest<9,>=7.0.0 (from pytest-asyncio<0.24.0,>=0.23.7->nillion-python-helpers)\n",
      "  Downloading pytest-8.3.2-py3-none-any.whl.metadata (7.5 kB)\n",
      "Collecting attrs>=22.2.0 (from jsonschema<5,>=3.2.0->cosmpy<0.10.0,>=0.9.2->nillion-python-helpers)\n",
      "  Downloading attrs-24.2.0-py3-none-any.whl.metadata (11 kB)\n",
      "Collecting jsonschema-specifications>=2023.03.6 (from jsonschema<5,>=3.2.0->cosmpy<0.10.0,>=0.9.2->nillion-python-helpers)\n",
      "  Using cached jsonschema_specifications-2023.12.1-py3-none-any.whl.metadata (3.0 kB)\n",
      "Collecting referencing>=0.28.4 (from jsonschema<5,>=3.2.0->cosmpy<0.10.0,>=0.9.2->nillion-python-helpers)\n",
      "  Using cached referencing-0.35.1-py3-none-any.whl.metadata (2.8 kB)\n",
      "Requirement already satisfied: rpds-py>=0.7.1 in c:\\python312\\lib\\site-packages (from jsonschema<5,>=3.2.0->cosmpy<0.10.0,>=0.9.2->nillion-python-helpers) (0.18.1)\n",
      "Collecting iniconfig (from pytest<9,>=7.0.0->pytest-asyncio<0.24.0,>=0.23.7->nillion-python-helpers)\n",
      "  Downloading iniconfig-2.0.0-py3-none-any.whl.metadata (2.6 kB)\n",
      "Collecting packaging (from pytest<9,>=7.0.0->pytest-asyncio<0.24.0,>=0.23.7->nillion-python-helpers)\n",
      "  Using cached packaging-24.1-py3-none-any.whl.metadata (3.2 kB)\n",
      "Collecting pluggy<2,>=1.5 (from pytest<9,>=7.0.0->pytest-asyncio<0.24.0,>=0.23.7->nillion-python-helpers)\n",
      "  Downloading pluggy-1.5.0-py3-none-any.whl.metadata (4.8 kB)\n",
      "Collecting colorama (from pytest<9,>=7.0.0->pytest-asyncio<0.24.0,>=0.23.7->nillion-python-helpers)\n",
      "  Using cached colorama-0.4.6-py2.py3-none-any.whl.metadata (17 kB)\n",
      "Requirement already satisfied: six>=1.9.0 in c:\\python312\\lib\\site-packages (from ecdsa->cosmpy<0.10.0,>=0.9.2->nillion-python-helpers) (1.16.0)\n",
      "Collecting charset-normalizer<4,>=2 (from requests->cosmpy<0.10.0,>=0.9.2->nillion-python-helpers)\n",
      "  Using cached charset_normalizer-3.3.2-cp312-cp312-win_amd64.whl.metadata (34 kB)\n",
      "Collecting idna<4,>=2.5 (from requests->cosmpy<0.10.0,>=0.9.2->nillion-python-helpers)\n",
      "  Using cached idna-3.7-py3-none-any.whl.metadata (9.9 kB)\n",
      "Requirement already satisfied: urllib3<3,>=1.21.1 in c:\\python312\\lib\\site-packages (from requests->cosmpy<0.10.0,>=0.9.2->nillion-python-helpers) (2.2.2)\n",
      "Collecting certifi>=2017.4.17 (from requests->cosmpy<0.10.0,>=0.9.2->nillion-python-helpers)\n",
      "  Downloading certifi-2024.7.4-py3-none-any.whl.metadata (2.2 kB)\n",
      "Downloading nillion_python_helpers-0.2.3-py3-none-any.whl (3.7 kB)\n",
      "Downloading cosmpy-0.9.2-py3-none-any.whl (413 kB)\n",
      "   -------------------------------------- 413.1/413.1 kB 548.9 kB/s eta 0:00:00\n",
      "Downloading pytest_asyncio-0.23.8-py3-none-any.whl (17 kB)\n",
      "Downloading jsonschema-4.23.0-py3-none-any.whl (88 kB)\n",
      "   ---------------------------------------- 88.5/88.5 kB 625.8 kB/s eta 0:00:00\n",
      "Downloading protobuf-4.25.4-cp310-abi3-win_amd64.whl (413 kB)\n",
      "   -------------------------------------- 413.4/413.4 kB 391.0 kB/s eta 0:00:00\n",
      "Downloading pycryptodome-3.20.0-cp35-abi3-win_amd64.whl (1.8 MB)\n",
      "   ---------------------------------------- 1.8/1.8 MB 1.7 MB/s eta 0:00:00\n",
      "Downloading pytest-8.3.2-py3-none-any.whl (341 kB)\n",
      "   ---------------------------------------- 341.8/341.8 kB 1.9 MB/s eta 0:00:00\n",
      "Downloading bech32-1.2.0-py3-none-any.whl (4.6 kB)\n",
      "Downloading ecdsa-0.19.0-py2.py3-none-any.whl (149 kB)\n",
      "   -------------------------------------- 149.3/149.3 kB 891.2 kB/s eta 0:00:00\n",
      "Downloading googleapis_common_protos-1.63.2-py2.py3-none-any.whl (220 kB)\n",
      "   ---------------------------------------- 220.0/220.0 kB 4.5 MB/s eta 0:00:00\n",
      "Downloading grpcio-1.65.4-cp312-cp312-win_amd64.whl (4.1 MB)\n",
      "   ---------------------------------------- 4.1/4.1 MB 2.0 MB/s eta 0:00:00\n",
      "Using cached python_dateutil-2.9.0.post0-py2.py3-none-any.whl (229 kB)\n",
      "Using cached requests-2.32.3-py3-none-any.whl (64 kB)\n",
      "Downloading attrs-24.2.0-py3-none-any.whl (63 kB)\n",
      "   ---------------------------------------- 63.0/63.0 kB 561.3 kB/s eta 0:00:00\n",
      "Downloading certifi-2024.7.4-py3-none-any.whl (162 kB)\n",
      "   ---------------------------------------- 163.0/163.0 kB 1.1 MB/s eta 0:00:00\n",
      "Using cached charset_normalizer-3.3.2-cp312-cp312-win_amd64.whl (100 kB)\n",
      "Using cached idna-3.7-py3-none-any.whl (66 kB)\n",
      "Using cached jsonschema_specifications-2023.12.1-py3-none-any.whl (18 kB)\n",
      "Downloading pluggy-1.5.0-py3-none-any.whl (20 kB)\n",
      "Using cached referencing-0.35.1-py3-none-any.whl (26 kB)\n",
      "Using cached colorama-0.4.6-py2.py3-none-any.whl (25 kB)\n",
      "Downloading iniconfig-2.0.0-py3-none-any.whl (5.9 kB)\n",
      "Using cached packaging-24.1-py3-none-any.whl (53 kB)\n",
      "Installing collected packages: python-dateutil, pycryptodome, protobuf, pluggy, packaging, iniconfig, idna, grpcio, ecdsa, colorama, charset-normalizer, certifi, bech32, attrs, requests, referencing, pytest, googleapis-common-protos, pytest-asyncio, jsonschema-specifications, jsonschema, cosmpy, nillion-python-helpers\n"
     ]
    },
    {
     "name": "stderr",
     "output_type": "stream",
     "text": [
      "  WARNING: Failed to write executable - trying to use .deleteme logic\n",
      "ERROR: Could not install packages due to an OSError: [WinError 2] The system cannot find the file specified: 'C:\\\\Python312\\\\Scripts\\\\normalizer.exe' -> 'C:\\\\Python312\\\\Scripts\\\\normalizer.exe.deleteme'\n",
      "\n",
      "\n",
      "[notice] A new release of pip is available: 24.0 -> 24.2\n",
      "[notice] To update, run: python.exe -m pip install --upgrade pip\n",
      "  WARNING: Failed to write executable - trying to use .deleteme logic\n",
      "ERROR: Could not install packages due to an OSError: [WinError 2] The system cannot find the file specified: 'C:\\\\Python312\\\\Scripts\\\\jsonschema.exe' -> 'C:\\\\Python312\\\\Scripts\\\\jsonschema.exe.deleteme'\n",
      "\n",
      "\n",
      "[notice] A new release of pip is available: 24.0 -> 24.2\n",
      "[notice] To update, run: python.exe -m pip install --upgrade pip\n"
     ]
    },
    {
     "name": "stdout",
     "output_type": "stream",
     "text": [
      "Requirement already satisfied: python-dotenv in c:\\python312\\lib\\site-packages (1.0.0)\n"
     ]
    },
    {
     "name": "stderr",
     "output_type": "stream",
     "text": [
      "\n",
      "[notice] A new release of pip is available: 24.0 -> 24.2\n",
      "[notice] To update, run: python.exe -m pip install --upgrade pip\n"
     ]
    },
    {
     "name": "stdout",
     "output_type": "stream",
     "text": [
      "W\u0000i\u0000n\u0000d\u0000o\u0000w\u0000s\u0000 \u0000S\u0000u\u0000b\u0000s\u0000y\u0000s\u0000t\u0000e\u0000m\u0000 \u0000f\u0000o\u0000r\u0000 \u0000L\u0000i\u0000n\u0000u\u0000x\u0000 \u0000h\u0000a\u0000s\u0000 \u0000n\u0000o\u0000 \u0000i\u0000n\u0000s\u0000t\u0000a\u0000l\u0000l\u0000e\u0000d\u0000 \u0000d\u0000i\u0000s\u0000t\u0000r\u0000i\u0000b\u0000u\u0000t\u0000i\u0000o\u0000n\u0000s\u0000.\u0000\n",
      "\u0000\n",
      "\u0000\n",
      "\u0000\n",
      "\u0000U\u0000s\u0000e\u0000 \u0000'\u0000w\u0000s\u0000l\u0000.\u0000e\u0000x\u0000e\u0000 \u0000-\u0000-\u0000l\u0000i\u0000s\u0000t\u0000 \u0000-\u0000-\u0000o\u0000n\u0000l\u0000i\u0000n\u0000e\u0000'\u0000 \u0000t\u0000o\u0000 \u0000l\u0000i\u0000s\u0000t\u0000 \u0000a\u0000v\u0000a\u0000i\u0000l\u0000a\u0000b\u0000l\u0000e\u0000 \u0000d\u0000i\u0000s\u0000t\u0000r\u0000i\u0000b\u0000u\u0000t\u0000i\u0000o\u0000n\u0000s\u0000\n",
      "\u0000\n",
      "\u0000a\u0000n\u0000d\u0000 \u0000'\u0000w\u0000s\u0000l\u0000.\u0000e\u0000x\u0000e\u0000 \u0000-\u0000-\u0000i\u0000n\u0000s\u0000t\u0000a\u0000l\u0000l\u0000 \u0000<\u0000D\u0000i\u0000s\u0000t\u0000r\u0000o\u0000>\u0000'\u0000 \u0000t\u0000o\u0000 \u0000i\u0000n\u0000s\u0000t\u0000a\u0000l\u0000l\u0000.\u0000\n",
      "\u0000\n",
      "\u0000\n",
      "\u0000\n",
      "\u0000D\u0000i\u0000s\u0000t\u0000r\u0000i\u0000b\u0000u\u0000t\u0000i\u0000o\u0000n\u0000s\u0000 \u0000c\u0000a\u0000n\u0000 \u0000a\u0000l\u0000s\u0000o\u0000 \u0000b\u0000e\u0000 \u0000i\u0000n\u0000s\u0000t\u0000a\u0000l\u0000l\u0000e\u0000d\u0000 \u0000b\u0000y\u0000 \u0000v\u0000i\u0000s\u0000i\u0000t\u0000i\u0000n\u0000g\u0000 \u0000t\u0000h\u0000e\u0000 \u0000M\u0000i\u0000c\u0000r\u0000o\u0000s\u0000o\u0000f\u0000t\u0000 \u0000S\u0000t\u0000o\u0000r\u0000e\u0000:\u0000\n",
      "\u0000\n",
      "\u0000h\u0000t\u0000t\u0000p\u0000s\u0000:\u0000/\u0000/\u0000a\u0000k\u0000a\u0000.\u0000m\u0000s\u0000/\u0000w\u0000s\u0000l\u0000s\u0000t\u0000o\u0000r\u0000e\u0000\n",
      "\u0000\n",
      "\u0000E\u0000r\u0000r\u0000o\u0000r\u0000 \u0000c\u0000o\u0000d\u0000e\u0000:\u0000 \u0000B\u0000a\u0000s\u0000h\u0000/\u0000S\u0000e\u0000r\u0000v\u0000i\u0000c\u0000e\u0000/\u0000C\u0000r\u0000e\u0000a\u0000t\u0000e\u0000I\u0000n\u0000s\u0000t\u0000a\u0000n\u0000c\u0000e\u0000/\u0000G\u0000e\u0000t\u0000D\u0000e\u0000f\u0000a\u0000u\u0000l\u0000t\u0000D\u0000i\u0000s\u0000t\u0000r\u0000o\u0000/\u0000W\u0000S\u0000L\u0000_\u0000E\u0000_\u0000D\u0000E\u0000F\u0000A\u0000U\u0000L\u0000T\u0000_\u0000D\u0000I\u0000S\u0000T\u0000R\u0000O\u0000_\u0000N\u0000O\u0000T\u0000_\u0000F\u0000O\u0000U\u0000N\u0000D\u0000\n",
      "\u0000\n",
      "\u0000\n"
     ]
    },
    {
     "name": "stderr",
     "output_type": "stream",
     "text": [
      "  % Total    % Received % Xferd  Average Speed   Time    Time     Time  Current\n",
      "                                 Dload  Upload   Total   Spent    Left  Speed\n",
      "\n",
      "  0     0    0     0    0     0      0      0 --:--:-- --:--:-- --:--:--     0\n",
      "  0     0    0     0    0     0      0      0 --:--:-- --:--:-- --:--:--     0\n",
      "  0     0    0     0    0     0      0      0 --:--:--  0:00:01 --:--:--     0\n",
      "100  7810  100  7810    0     0   3775      0  0:00:02  0:00:02 --:--:--  3778\n",
      "curl: (23) Failure writing output to destination\n",
      "'export' is not recognized as an internal or external command,\n",
      "operable program or batch file.\n",
      "'nilup' is not recognized as an internal or external command,\n",
      "operable program or batch file.\n",
      "'nilup' is not recognized as an internal or external command,\n",
      "operable program or batch file.\n",
      "'nilup' is not recognized as an internal or external command,\n",
      "operable program or batch file.\n"
     ]
    },
    {
     "name": "stdout",
     "output_type": "stream",
     "text": [
      "Collecting torch\n",
      "  Using cached torch-2.4.0-cp312-cp312-win_amd64.whl.metadata (27 kB)\n",
      "Collecting filelock (from torch)\n",
      "  Using cached filelock-3.15.4-py3-none-any.whl.metadata (2.9 kB)\n",
      "Requirement already satisfied: typing-extensions>=4.8.0 in c:\\python312\\lib\\site-packages (from torch) (4.12.2)\n",
      "Requirement already satisfied: sympy in c:\\python312\\lib\\site-packages (from torch) (1.13.1)\n",
      "Collecting networkx (from torch)\n",
      "  Using cached networkx-3.3-py3-none-any.whl.metadata (5.1 kB)\n",
      "Collecting jinja2 (from torch)\n",
      "  Using cached jinja2-3.1.4-py3-none-any.whl.metadata (2.6 kB)\n",
      "Collecting fsspec (from torch)\n",
      "  Using cached fsspec-2024.6.1-py3-none-any.whl.metadata (11 kB)\n",
      "Requirement already satisfied: setuptools in c:\\python312\\lib\\site-packages (from torch) (72.1.0)\n",
      "Collecting MarkupSafe>=2.0 (from jinja2->torch)\n",
      "  Using cached MarkupSafe-2.1.5-cp312-cp312-win_amd64.whl.metadata (3.1 kB)\n",
      "Requirement already satisfied: mpmath<1.4,>=1.1.0 in c:\\python312\\lib\\site-packages (from sympy->torch) (1.3.0)\n",
      "Using cached torch-2.4.0-cp312-cp312-win_amd64.whl (197.8 MB)\n",
      "Using cached filelock-3.15.4-py3-none-any.whl (16 kB)\n",
      "Using cached fsspec-2024.6.1-py3-none-any.whl (177 kB)\n",
      "Using cached jinja2-3.1.4-py3-none-any.whl (133 kB)\n",
      "Using cached networkx-3.3-py3-none-any.whl (1.7 MB)\n",
      "Using cached MarkupSafe-2.1.5-cp312-cp312-win_amd64.whl (17 kB)\n",
      "Installing collected packages: networkx, MarkupSafe, fsspec, filelock, jinja2, torch\n"
     ]
    },
    {
     "name": "stderr",
     "output_type": "stream",
     "text": [
      "  WARNING: Failed to write executable - trying to use .deleteme logic\n",
      "ERROR: Could not install packages due to an OSError: [WinError 2] The system cannot find the file specified: 'C:\\\\Python312\\\\Scripts\\\\convert-caffe2-to-onnx.exe' -> 'C:\\\\Python312\\\\Scripts\\\\convert-caffe2-to-onnx.exe.deleteme'\n",
      "\n",
      "\n",
      "[notice] A new release of pip is available: 24.0 -> 24.2\n",
      "[notice] To update, run: python.exe -m pip install --upgrade pip\n"
     ]
    },
    {
     "name": "stdout",
     "output_type": "stream",
     "text": [
      "Collecting torchvision\n",
      "  Using cached torchvision-0.19.0-1-cp312-cp312-win_amd64.whl.metadata (6.1 kB)\n",
      "Requirement already satisfied: numpy<2 in c:\\python312\\lib\\site-packages (from torchvision) (1.26.4)\n",
      "Requirement already satisfied: torch==2.4.0 in c:\\python312\\lib\\site-packages (from torchvision) (2.4.0)\n",
      "Requirement already satisfied: pillow!=8.3.*,>=5.3.0 in c:\\python312\\lib\\site-packages (from torchvision) (10.4.0)\n",
      "Requirement already satisfied: filelock in c:\\python312\\lib\\site-packages (from torch==2.4.0->torchvision) (3.15.4)\n",
      "Requirement already satisfied: typing-extensions>=4.8.0 in c:\\python312\\lib\\site-packages (from torch==2.4.0->torchvision) (4.12.2)\n",
      "Requirement already satisfied: sympy in c:\\python312\\lib\\site-packages (from torch==2.4.0->torchvision) (1.13.1)\n",
      "Requirement already satisfied: networkx in c:\\python312\\lib\\site-packages (from torch==2.4.0->torchvision) (3.3)\n",
      "Requirement already satisfied: jinja2 in c:\\python312\\lib\\site-packages (from torch==2.4.0->torchvision) (3.1.4)\n",
      "Requirement already satisfied: fsspec in c:\\python312\\lib\\site-packages (from torch==2.4.0->torchvision) (2024.6.1)\n",
      "Requirement already satisfied: setuptools in c:\\python312\\lib\\site-packages (from torch==2.4.0->torchvision) (72.1.0)\n",
      "Requirement already satisfied: MarkupSafe>=2.0 in c:\\python312\\lib\\site-packages (from jinja2->torch==2.4.0->torchvision) (2.1.5)\n",
      "Requirement already satisfied: mpmath<1.4,>=1.1.0 in c:\\python312\\lib\\site-packages (from sympy->torch==2.4.0->torchvision) (1.3.0)\n",
      "Using cached torchvision-0.19.0-1-cp312-cp312-win_amd64.whl (1.3 MB)\n",
      "Installing collected packages: torchvision\n",
      "Successfully installed torchvision-0.19.0\n"
     ]
    },
    {
     "name": "stderr",
     "output_type": "stream",
     "text": [
      "\n",
      "[notice] A new release of pip is available: 24.0 -> 24.2\n",
      "[notice] To update, run: python.exe -m pip install --upgrade pip\n"
     ]
    },
    {
     "name": "stdout",
     "output_type": "stream",
     "text": [
      "Collecting nada_ai"
     ]
    },
    {
     "name": "stderr",
     "output_type": "stream",
     "text": [
      "ERROR: Cannot install nada-ai==0.1.2, nada-ai==0.1.3, nada-ai==0.2.0, nada-ai==0.3.0, nada-ai==0.3.1 and nada-ai==0.4.0 because these package versions have conflicting dependencies.\n",
      "ERROR: ResolutionImpossible: for help visit https://pip.pypa.io/en/latest/topics/dependency-resolution/#dealing-with-dependency-conflicts\n",
      "\n",
      "[notice] A new release of pip is available: 24.0 -> 24.2\n",
      "[notice] To update, run: python.exe -m pip install --upgrade pip\n"
     ]
    },
    {
     "name": "stdout",
     "output_type": "stream",
     "text": [
      "\n",
      "  Using cached nada_ai-0.4.0-py3-none-any.whl.metadata (3.4 kB)\n",
      "Requirement already satisfied: nada-dsl<0.6.0,>=0.5.0 in c:\\python312\\lib\\site-packages (from nada_ai) (0.5.0)\n",
      "Collecting nada-numpy<0.5.0,>=0.4.0 (from nada_ai)\n",
      "  Using cached nada_numpy-0.4.0-py3-none-any.whl.metadata (2.9 kB)\n",
      "Collecting nillion-python-helpers<0.3.0,>=0.2.3 (from nada_ai)\n",
      "  Using cached nillion_python_helpers-0.2.3-py3-none-any.whl.metadata (1.1 kB)\n",
      "Collecting prophet<2.0.0,>=1.1.5 (from nada_ai)\n",
      "  Using cached prophet-1.1.5-py3-none-win_amd64.whl.metadata (3.6 kB)\n",
      "INFO: pip is looking at multiple versions of nada-ai to determine which version is compatible with other requirements. This could take a while.\n",
      "Collecting nada_ai\n",
      "  Using cached nada_ai-0.3.1-py3-none-any.whl.metadata (3.4 kB)\n",
      "Collecting nada-dsl<0.5.0,>=0.4.0 (from nada_ai)\n",
      "  Using cached nada_dsl-0.4.0-py3-none-any.whl.metadata (14 kB)\n",
      "Collecting nada-numpy<0.4.0,>=0.3.2 (from nada_ai)\n",
      "  Using cached nada_numpy-0.3.2-py3-none-any.whl.metadata (2.9 kB)\n",
      "Collecting nada_ai\n",
      "  Using cached nada_ai-0.3.0-py3-none-any.whl.metadata (2.8 kB)\n",
      "Requirement already satisfied: numpy<2.0.0,>=1.26.4 in c:\\python312\\lib\\site-packages (from nada_ai) (1.26.4)\n",
      "  Using cached nada_ai-0.2.0-py3-none-any.whl.metadata (2.8 kB)\n",
      "Collecting nada-dsl<0.4,>=0.3 (from nada_ai)\n",
      "  Using cached nada_dsl-0.3.0-py3-none-any.whl.metadata (14 kB)\n",
      "Collecting nada-numpy<0.3,>=0.2 (from nada_ai)\n",
      "  Using cached nada_numpy-0.2.0-py3-none-any.whl.metadata (2.7 kB)\n",
      "Collecting nada_ai\n",
      "  Using cached nada_ai-0.1.3-py3-none-any.whl.metadata (2.8 kB)\n",
      "Collecting nada-dsl<0.3.0,>=0.2.1 (from nada_ai)\n",
      "  Using cached nada_dsl-0.2.1-py3-none-any.whl.metadata (14 kB)\n",
      "Collecting nada-numpy<0.2,>=0.1 (from nada_ai)\n",
      "  Using cached nada_numpy-0.1.3-py3-none-any.whl.metadata (3.0 kB)\n",
      "Collecting nillion-python-helpers<0.2,>=0.1 (from nada_ai)\n",
      "  Using cached nillion_python_helpers-0.1.2-py3-none-any.whl.metadata (1.5 kB)\n",
      "Collecting nada_ai\n",
      "  Using cached nada_ai-0.1.2-py3-none-any.whl.metadata (1.9 kB)\n",
      "\n",
      "The conflict is caused by:\n",
      "    nada-ai 0.4.0 depends on py-nillion-client<0.6.0 and >=0.5.0\n",
      "    nada-ai 0.3.1 depends on py-nillion-client<0.5.0 and >=0.4.0\n",
      "    nada-ai 0.3.0 depends on py-nillion-client<0.5 and >=0.4\n",
      "    nada-ai 0.2.0 depends on py-nillion-client<0.4 and >=0.3\n",
      "    nada-ai 0.1.3 depends on py-nillion-client<0.3.0 and >=0.2.1\n",
      "    nada-ai 0.1.2 depends on py-nillion-client<0.3.0 and >=0.2.1\n",
      "\n",
      "To fix this you could try to:\n",
      "1. loosen the range of package versions you've specified\n",
      "2. remove package versions to allow pip attempt to solve the dependency conflict\n",
      "\n",
      "Collecting nada_numpy\n",
      "  Using cached nada_numpy-0.4.0-py3-none-any.whl.metadata (2.9 kB)\n",
      "Requirement already satisfied: nada-dsl<0.6.0,>=0.5.0 in c:\\python312\\lib\\site-packages (from nada_numpy) (0.5.0)\n",
      "Collecting nillion-python-helpers<0.3.0,>=0.2.3 (from nada_numpy)\n",
      "  Using cached nillion_python_helpers-0.2.3-py3-none-any.whl.metadata (1.1 kB)\n",
      "Requirement already satisfied: numpy<2.0.0,>=1.26.4 in c:\\python312\\lib\\site-packages (from nada_numpy) (1.26.4)\n",
      "INFO: pip is looking at multiple versions of nada-numpy to determine which version is compatible with other requirements. This could take a while.\n",
      "Collecting nada_numpy\n",
      "  Using cached nada_numpy-0.3.2-py3-none-any.whl.metadata (2.9 kB)\n",
      "Collecting nada-dsl<0.5.0,>=0.4.0 (from nada_numpy)\n",
      "  Using cached nada_dsl-0.4.0-py3-none-any.whl.metadata (14 kB)\n",
      "Collecting nada_numpy\n",
      "  Using cached nada_numpy-0.3.1-py3-none-any.whl.metadata (2.9 kB)\n",
      "Collecting numpy<3.0.0,>=2.0.0 (from nada_numpy)\n",
      "  Using cached numpy-2.0.1-cp312-cp312-win_amd64.whl.metadata (60 kB)\n",
      "Collecting nada_numpy\n",
      "  Using cached nada_numpy-0.3.0-py3-none-any.whl.metadata (2.7 kB)\n",
      "  Using cached nada_numpy-0.2.0-py3-none-any.whl.metadata (2.7 kB)\n",
      "Collecting nada-dsl<0.4,>=0.3 (from nada_numpy)\n",
      "  Using cached nada_dsl-0.3.0-py3-none-any.whl.metadata (14 kB)\n",
      "Collecting nada_numpy\n",
      "  Using cached nada_numpy-0.1.3-py3-none-any.whl.metadata (3.0 kB)\n",
      "Collecting nada-dsl<0.3.0,>=0.2.1 (from nada_numpy)\n",
      "  Using cached nada_dsl-0.2.1-py3-none-any.whl.metadata (14 kB)\n",
      "Collecting nillion-python-helpers<0.2,>=0.1 (from nada_numpy)\n",
      "  Using cached nillion_python_helpers-0.1.2-py3-none-any.whl.metadata (1.5 kB)\n",
      "Collecting nada_numpy\n",
      "  Using cached nada_numpy-0.1.2-py3-none-any.whl.metadata (2.3 kB)\n",
      "  Using cached nada_numpy-0.1.1-py3-none-any.whl.metadata (2.3 kB)\n",
      "INFO: pip is still looking at multiple versions of nada-numpy to determine which version is compatible with other requirements. This could take a while.\n",
      "  Using cached nada_numpy-0.1.0-py3-none-any.whl.metadata (2.3 kB)\n",
      "\n",
      "The conflict is caused by:\n",
      "    nada-numpy 0.4.0 depends on py-nillion-client<0.6.0 and >=0.5.0\n",
      "    nada-numpy 0.3.2 depends on py-nillion-client<0.5.0 and >=0.4.0\n",
      "    nada-numpy 0.3.1 depends on py-nillion-client<0.5.0 and >=0.4.0\n",
      "    nada-numpy 0.3.0 depends on py-nillion-client<0.5 and >=0.4\n",
      "    nada-numpy 0.2.0 depends on py-nillion-client<0.4 and >=0.3\n",
      "    nada-numpy 0.1.3 depends on py-nillion-client<0.3.0 and >=0.2.1\n",
      "    nada-numpy 0.1.2 depends on py-nillion-client<0.3.0 and >=0.2.1\n",
      "    nada-numpy 0.1.1 depends on py-nillion-client<0.3.0 and >=0.2.1\n",
      "    nada-numpy 0.1.0 depends on py-nillion-client<0.3.0 and >=0.2.1\n",
      "\n",
      "To fix this you could try to:\n",
      "1. loosen the range of package versions you've specified\n",
      "2. remove package versions to allow pip attempt to solve the dependency conflict\n",
      "\n"
     ]
    },
    {
     "name": "stderr",
     "output_type": "stream",
     "text": [
      "ERROR: Cannot install nada-numpy==0.1.0, nada-numpy==0.1.1, nada-numpy==0.1.2, nada-numpy==0.1.3, nada-numpy==0.2.0, nada-numpy==0.3.0, nada-numpy==0.3.1, nada-numpy==0.3.2 and nada-numpy==0.4.0 because these package versions have conflicting dependencies.\n",
      "ERROR: ResolutionImpossible: for help visit https://pip.pypa.io/en/latest/topics/dependency-resolution/#dealing-with-dependency-conflicts\n",
      "\n",
      "[notice] A new release of pip is available: 24.0 -> 24.2\n",
      "[notice] To update, run: python.exe -m pip install --upgrade pip\n"
     ]
    }
   ],
   "source": [
    "# this is useful if you get libray incompatibility errors with the Nillion SDK.\n",
    "\n",
    "\n",
    "# #chanege to your GitHub username\n",
    "# github_username = \"your-github-username\"\n",
    "\n",
    "# # do not change this\n",
    "# forked_repo_name = \"nillion-python-starter\"\n",
    "\n",
    "# # we need this when we push your commits to GitHub at the end\n",
    "# email = \"your-github-email\"\n",
    "# github_token = \"your-github-token\"\n",
    "\n",
    "# # change this to be your ETH address, or something else that is unique to you\n",
    "# my_identifier = \"your-telemetry-identifier\"\n",
    "# # install the Nillion python libraries we will need\n",
    "!pip install nada-dsl\n",
    "!pip install py_nillion_client\n",
    "!pip install nillion-python-helpers\n",
    "!pip install cosmpy>=0.9.2\n",
    "!pip install python-dotenv\n",
    "\n",
    "# # import some more Python libraries\n",
    "import os\n",
    "import time\n",
    "\n",
    "# # Install the nilup tool and then use that to install the Nillion SDK\n",
    "!curl https://nilup.nilogy.xyz/install.sh | bash\n",
    "!export PATH=$PATH:/root/.nilup/bin\n",
    "\n",
    "# # identifier = \"HH_GOA-\" + my_identifier\n",
    "\n",
    "# # Enable telemetry using the identifier you have set above\n",
    "# !echo 'yes' | /root/.nilup/bin/nilup instrumentation enable --wallet {identifier}\n",
    "\n",
    "# # install the lastest SDK and initialise it\n",
    "\n",
    "!nilup init\n",
    "!nilup install latest --nada-dsl --python-client\n",
    "!nilup use latest\n",
    "!pip install torch\n",
    "!pip install torchvision\n",
    "!pip install nada_ai\n",
    "!pip install nada_numpy"
   ]
  },
  {
   "cell_type": "code",
   "execution_count": 1,
   "metadata": {},
   "outputs": [
    {
     "name": "stdout",
     "output_type": "stream",
     "text": [
      "C:\\Users\\ASODRA MAYUR\\Desktop\\Tumor-Classification\\ETH-global-Melanoma-pred\\quickstart\n"
     ]
    },
    {
     "ename": "ModuleNotFoundError",
     "evalue": "No module named 'nada_numpy'",
     "output_type": "error",
     "traceback": [
      "\u001b[1;31m---------------------------------------------------------------------------\u001b[0m",
      "\u001b[1;31mModuleNotFoundError\u001b[0m                       Traceback (most recent call last)",
      "\u001b[1;32m~\\AppData\\Local\\Temp\\ipykernel_7660\\385208721.py\u001b[0m in \u001b[0;36m<module>\u001b[1;34m\u001b[0m\n\u001b[0;32m      5\u001b[0m \u001b[0mprint\u001b[0m\u001b[1;33m(\u001b[0m\u001b[0mos\u001b[0m\u001b[1;33m.\u001b[0m\u001b[0mpath\u001b[0m\u001b[1;33m.\u001b[0m\u001b[0mabspath\u001b[0m\u001b[1;33m(\u001b[0m\u001b[0mos\u001b[0m\u001b[1;33m.\u001b[0m\u001b[0mpath\u001b[0m\u001b[1;33m.\u001b[0m\u001b[0mjoin\u001b[0m\u001b[1;33m(\u001b[0m\u001b[0mos\u001b[0m\u001b[1;33m.\u001b[0m\u001b[0mgetcwd\u001b[0m\u001b[1;33m(\u001b[0m\u001b[1;33m)\u001b[0m\u001b[1;33m,\u001b[0m \u001b[0mos\u001b[0m\u001b[1;33m.\u001b[0m\u001b[0mpardir\u001b[0m\u001b[1;33m)\u001b[0m\u001b[1;33m)\u001b[0m\u001b[1;33m)\u001b[0m\u001b[1;33m\u001b[0m\u001b[1;33m\u001b[0m\u001b[0m\n\u001b[0;32m      6\u001b[0m \u001b[1;32mimport\u001b[0m \u001b[0mjson\u001b[0m\u001b[1;33m\u001b[0m\u001b[1;33m\u001b[0m\u001b[0m\n\u001b[1;32m----> 7\u001b[1;33m \u001b[1;32mimport\u001b[0m \u001b[0mnada_numpy\u001b[0m \u001b[1;32mas\u001b[0m \u001b[0mna\u001b[0m\u001b[1;33m\u001b[0m\u001b[1;33m\u001b[0m\u001b[0m\n\u001b[0m\u001b[0;32m      8\u001b[0m \u001b[1;32mimport\u001b[0m \u001b[0mnumpy\u001b[0m \u001b[1;32mas\u001b[0m \u001b[0mnp\u001b[0m\u001b[1;33m\u001b[0m\u001b[1;33m\u001b[0m\u001b[0m\n\u001b[0;32m      9\u001b[0m \u001b[1;32mimport\u001b[0m \u001b[0mpy_nillion_client\u001b[0m \u001b[1;32mas\u001b[0m \u001b[0mnillion\u001b[0m\u001b[1;33m\u001b[0m\u001b[1;33m\u001b[0m\u001b[0m\n",
      "\u001b[1;31mModuleNotFoundError\u001b[0m: No module named 'nada_numpy'"
     ]
    }
   ],
   "source": [
    "import os\n",
    "import sys\n",
    "\n",
    "sys.path.append(os.path.abspath(os.path.join(os.getcwd(), os.pardir)))\n",
    "print(os.path.abspath(os.path.join(os.getcwd(), os.pardir)))\n",
    "import json\n",
    "import nada_numpy as na\n",
    "import numpy as np\n",
    "import py_nillion_client as nillion\n",
    "import torch\n",
    "from common.utils import store_program, store_secrets\n",
    "from cosmpy.aerial.client import LedgerClient\n",
    "from cosmpy.aerial.wallet import LocalWallet\n",
    "from cosmpy.crypto.keypairs import PrivateKey\n",
    "from dotenv import load_dotenv\n",
    "from nada_ai.client import TorchClient\n",
    "from nillion_python_helpers import (create_nillion_client,\n",
    "                                    create_payments_config)\n",
    "from py_nillion_client import NodeKey, UserKey\n",
    "\n",
    "from torch import nn\n",
    "from torchvision import transforms\n",
    "from sklearn.metrics import (\n",
    "    confusion_matrix,\n",
    "    ConfusionMatrixDisplay,\n",
    "    precision_recall_fscore_support,\n",
    ")\n",
    "import matplotlib.pyplot as plt\n",
    "from PIL import Image\n",
    "import numpy as np\n",
    "\n",
    "home = os.getenv(\"HOME\")\n",
    "load_dotenv(\"nada_quickstart_programs/.env\")\n",
    "# print((f\"{home}/.config/nillion/nillion-devnet.env\"))"
   ]
  },
  {
   "cell_type": "code",
   "execution_count": 6,
   "metadata": {},
   "outputs": [
    {
     "data": {
      "text/plain": [
       "False"
      ]
     },
     "execution_count": 6,
     "metadata": {},
     "output_type": "execute_result"
    }
   ],
   "source": [
    "load_dotenv(\"nada_quickstart_programs/.env\")"
   ]
  },
  {
   "cell_type": "markdown",
   "metadata": {},
   "source": [
    "### Train a Melanoma detection model"
   ]
  },
  {
   "cell_type": "code",
   "execution_count": 347,
   "metadata": {},
   "outputs": [
    {
     "name": "stdout",
     "output_type": "stream",
     "text": [
      "Starting epoch 1...\n",
      "Loss after mini-batch   100: 0.676\n",
      "Accuracy after mini-batch   100: 56.250\n",
      "Loss after mini-batch   200: 0.615\n",
      "Accuracy after mini-batch   200: 71.125\n",
      "Loss after mini-batch   300: 0.499\n",
      "Accuracy after mini-batch   300: 78.062\n",
      "Loss after mini-batch   400: 0.431\n",
      "Accuracy after mini-batch   400: 80.562\n",
      "Loss after mini-batch   500: 0.430\n",
      "Accuracy after mini-batch   500: 80.312\n",
      "Starting epoch 2...\n",
      "Loss after mini-batch   100: 0.396\n",
      "Accuracy after mini-batch   100: 81.312\n",
      "Loss after mini-batch   200: 0.413\n",
      "Accuracy after mini-batch   200: 81.188\n",
      "Loss after mini-batch   300: 0.404\n",
      "Accuracy after mini-batch   300: 81.250\n",
      "Loss after mini-batch   400: 0.415\n",
      "Accuracy after mini-batch   400: 81.000\n",
      "Loss after mini-batch   500: 0.431\n",
      "Accuracy after mini-batch   500: 78.750\n",
      "Starting epoch 3...\n",
      "Loss after mini-batch   100: 0.391\n",
      "Accuracy after mini-batch   100: 81.688\n",
      "Loss after mini-batch   200: 0.419\n",
      "Accuracy after mini-batch   200: 80.688\n",
      "Loss after mini-batch   300: 0.386\n",
      "Accuracy after mini-batch   300: 82.688\n",
      "Loss after mini-batch   400: 0.399\n",
      "Accuracy after mini-batch   400: 81.625\n",
      "Loss after mini-batch   500: 0.399\n",
      "Accuracy after mini-batch   500: 81.562\n",
      "Starting epoch 4...\n",
      "Loss after mini-batch   100: 0.407\n",
      "Accuracy after mini-batch   100: 80.125\n",
      "Loss after mini-batch   200: 0.381\n",
      "Accuracy after mini-batch   200: 82.562\n",
      "Loss after mini-batch   300: 0.380\n",
      "Accuracy after mini-batch   300: 83.250\n",
      "Loss after mini-batch   400: 0.380\n",
      "Accuracy after mini-batch   400: 83.375\n",
      "Loss after mini-batch   500: 0.374\n",
      "Accuracy after mini-batch   500: 83.062\n",
      "Starting epoch 5...\n",
      "Loss after mini-batch   100: 0.375\n",
      "Accuracy after mini-batch   100: 82.312\n",
      "Loss after mini-batch   200: 0.366\n",
      "Accuracy after mini-batch   200: 83.688\n",
      "Loss after mini-batch   300: 0.380\n",
      "Accuracy after mini-batch   300: 81.938\n",
      "Loss after mini-batch   400: 0.397\n",
      "Accuracy after mini-batch   400: 81.438\n",
      "Loss after mini-batch   500: 0.385\n",
      "Accuracy after mini-batch   500: 81.688\n",
      "Starting epoch 6...\n",
      "Loss after mini-batch   100: 0.372\n",
      "Accuracy after mini-batch   100: 82.875\n",
      "Loss after mini-batch   200: 0.366\n",
      "Accuracy after mini-batch   200: 82.375\n",
      "Loss after mini-batch   300: 0.389\n",
      "Accuracy after mini-batch   300: 82.125\n",
      "Loss after mini-batch   400: 0.370\n",
      "Accuracy after mini-batch   400: 82.562\n",
      "Loss after mini-batch   500: 0.355\n",
      "Accuracy after mini-batch   500: 84.312\n",
      "Starting epoch 7...\n",
      "Loss after mini-batch   100: 0.363\n",
      "Accuracy after mini-batch   100: 83.625\n",
      "Loss after mini-batch   200: 0.370\n",
      "Accuracy after mini-batch   200: 82.562\n",
      "Loss after mini-batch   300: 0.364\n",
      "Accuracy after mini-batch   300: 82.688\n",
      "Loss after mini-batch   400: 0.367\n",
      "Accuracy after mini-batch   400: 83.125\n",
      "Loss after mini-batch   500: 0.360\n",
      "Accuracy after mini-batch   500: 84.062\n",
      "Starting epoch 8...\n",
      "Loss after mini-batch   100: 0.363\n",
      "Accuracy after mini-batch   100: 83.062\n",
      "Loss after mini-batch   200: 0.350\n",
      "Accuracy after mini-batch   200: 84.500\n",
      "Loss after mini-batch   300: 0.365\n",
      "Accuracy after mini-batch   300: 83.562\n",
      "Loss after mini-batch   400: 0.344\n",
      "Accuracy after mini-batch   400: 84.000\n",
      "Loss after mini-batch   500: 0.363\n",
      "Accuracy after mini-batch   500: 83.188\n",
      "Starting epoch 9...\n",
      "Loss after mini-batch   100: 0.352\n",
      "Accuracy after mini-batch   100: 83.875\n",
      "Loss after mini-batch   200: 0.384\n",
      "Accuracy after mini-batch   200: 82.500\n",
      "Loss after mini-batch   300: 0.356\n",
      "Accuracy after mini-batch   300: 83.938\n",
      "Loss after mini-batch   400: 0.333\n",
      "Accuracy after mini-batch   400: 85.625\n",
      "Loss after mini-batch   500: 0.341\n",
      "Accuracy after mini-batch   500: 84.500\n",
      "Starting epoch 10...\n",
      "Loss after mini-batch   100: 0.356\n",
      "Accuracy after mini-batch   100: 83.188\n",
      "Loss after mini-batch   200: 0.345\n",
      "Accuracy after mini-batch   200: 84.750\n",
      "Loss after mini-batch   300: 0.350\n",
      "Accuracy after mini-batch   300: 84.188\n",
      "Loss after mini-batch   400: 0.336\n",
      "Accuracy after mini-batch   400: 84.750\n",
      "Loss after mini-batch   500: 0.354\n",
      "Accuracy after mini-batch   500: 84.188\n",
      "Starting epoch 11...\n",
      "Loss after mini-batch   100: 0.351\n",
      "Accuracy after mini-batch   100: 84.125\n",
      "Loss after mini-batch   200: 0.349\n",
      "Accuracy after mini-batch   200: 82.375\n",
      "Loss after mini-batch   300: 0.330\n",
      "Accuracy after mini-batch   300: 86.625\n",
      "Loss after mini-batch   400: 0.336\n",
      "Accuracy after mini-batch   400: 84.625\n",
      "Loss after mini-batch   500: 0.348\n",
      "Accuracy after mini-batch   500: 83.312\n",
      "Starting epoch 12...\n",
      "Loss after mini-batch   100: 0.338\n",
      "Accuracy after mini-batch   100: 85.438\n",
      "Loss after mini-batch   200: 0.334\n",
      "Accuracy after mini-batch   200: 85.500\n",
      "Loss after mini-batch   300: 0.342\n",
      "Accuracy after mini-batch   300: 84.062\n",
      "Loss after mini-batch   400: 0.355\n",
      "Accuracy after mini-batch   400: 83.875\n",
      "Loss after mini-batch   500: 0.344\n",
      "Accuracy after mini-batch   500: 84.625\n",
      "Starting epoch 13...\n",
      "Loss after mini-batch   100: 0.340\n",
      "Accuracy after mini-batch   100: 85.125\n",
      "Loss after mini-batch   200: 0.357\n",
      "Accuracy after mini-batch   200: 83.625\n",
      "Loss after mini-batch   300: 0.345\n",
      "Accuracy after mini-batch   300: 84.812\n",
      "Loss after mini-batch   400: 0.323\n",
      "Accuracy after mini-batch   400: 85.500\n",
      "Loss after mini-batch   500: 0.337\n",
      "Accuracy after mini-batch   500: 85.500\n",
      "Starting epoch 14...\n",
      "Loss after mini-batch   100: 0.314\n",
      "Accuracy after mini-batch   100: 86.438\n",
      "Loss after mini-batch   200: 0.348\n",
      "Accuracy after mini-batch   200: 83.812\n",
      "Loss after mini-batch   300: 0.317\n",
      "Accuracy after mini-batch   300: 86.188\n",
      "Loss after mini-batch   400: 0.349\n",
      "Accuracy after mini-batch   400: 83.625\n",
      "Loss after mini-batch   500: 0.322\n",
      "Accuracy after mini-batch   500: 86.562\n",
      "Starting epoch 15...\n",
      "Loss after mini-batch   100: 0.317\n",
      "Accuracy after mini-batch   100: 84.812\n",
      "Loss after mini-batch   200: 0.305\n",
      "Accuracy after mini-batch   200: 86.688\n",
      "Loss after mini-batch   300: 0.360\n",
      "Accuracy after mini-batch   300: 83.812\n",
      "Loss after mini-batch   400: 0.352\n",
      "Accuracy after mini-batch   400: 83.812\n",
      "Loss after mini-batch   500: 0.341\n",
      "Accuracy after mini-batch   500: 85.438\n",
      "Starting epoch 16...\n",
      "Loss after mini-batch   100: 0.349\n",
      "Accuracy after mini-batch   100: 83.750\n",
      "Loss after mini-batch   200: 0.331\n",
      "Accuracy after mini-batch   200: 85.188\n",
      "Loss after mini-batch   300: 0.312\n",
      "Accuracy after mini-batch   300: 87.125\n",
      "Loss after mini-batch   400: 0.332\n",
      "Accuracy after mini-batch   400: 85.812\n",
      "Loss after mini-batch   500: 0.330\n",
      "Accuracy after mini-batch   500: 85.125\n",
      "Starting epoch 17...\n",
      "Loss after mini-batch   100: 0.318\n",
      "Accuracy after mini-batch   100: 86.250\n",
      "Loss after mini-batch   200: 0.334\n",
      "Accuracy after mini-batch   200: 84.562\n",
      "Loss after mini-batch   300: 0.344\n",
      "Accuracy after mini-batch   300: 84.562\n",
      "Loss after mini-batch   400: 0.302\n",
      "Accuracy after mini-batch   400: 86.750\n",
      "Loss after mini-batch   500: 0.326\n",
      "Accuracy after mini-batch   500: 85.750\n",
      "Starting epoch 18...\n",
      "Loss after mini-batch   100: 0.335\n",
      "Accuracy after mini-batch   100: 85.188\n",
      "Loss after mini-batch   200: 0.334\n",
      "Accuracy after mini-batch   200: 85.188\n",
      "Loss after mini-batch   300: 0.326\n",
      "Accuracy after mini-batch   300: 84.750\n",
      "Loss after mini-batch   400: 0.308\n",
      "Accuracy after mini-batch   400: 86.875\n",
      "Loss after mini-batch   500: 0.335\n",
      "Accuracy after mini-batch   500: 85.000\n",
      "Starting epoch 19...\n",
      "Loss after mini-batch   100: 0.334\n",
      "Accuracy after mini-batch   100: 85.000\n",
      "Loss after mini-batch   200: 0.299\n",
      "Accuracy after mini-batch   200: 87.125\n",
      "Loss after mini-batch   300: 0.321\n",
      "Accuracy after mini-batch   300: 85.938\n",
      "Loss after mini-batch   400: 0.342\n",
      "Accuracy after mini-batch   400: 84.625\n",
      "Loss after mini-batch   500: 0.323\n",
      "Accuracy after mini-batch   500: 85.750\n",
      "Starting epoch 20...\n",
      "Loss after mini-batch   100: 0.312\n",
      "Accuracy after mini-batch   100: 86.125\n",
      "Loss after mini-batch   200: 0.343\n",
      "Accuracy after mini-batch   200: 84.875\n",
      "Loss after mini-batch   300: 0.338\n",
      "Accuracy after mini-batch   300: 84.562\n",
      "Loss after mini-batch   400: 0.305\n",
      "Accuracy after mini-batch   400: 86.688\n",
      "Loss after mini-batch   500: 0.319\n",
      "Accuracy after mini-batch   500: 86.062\n"
     ]
    }
   ],
   "source": [
    "\n",
    "\n",
    "class MelanomaDataset(torch.utils.data.Dataset):\n",
    "    def __init__(self, root_dir: os.PathLike, transform) -> None:\n",
    "        self.root_dir = root_dir\n",
    "        self.transform = transform\n",
    "\n",
    "        self.classes = [\"Benign\", \"Malignant\"]\n",
    "\n",
    "        self.data = []\n",
    "        self.targets = []\n",
    "\n",
    "        for class_index, class_name in enumerate(self.classes):\n",
    "            class_dir = os.path.join(self.root_dir, class_name)\n",
    "            for filename in os.listdir(class_dir):\n",
    "                if filename.endswith(\".jpg\"):\n",
    "                    img_path = os.path.join(class_dir, filename)\n",
    "                    self.data.append(img_path)\n",
    "                    self.targets.append(class_index)\n",
    "\n",
    "    def __len__(self):\n",
    "        return len(self.data)\n",
    "\n",
    "    def __getitem__(self, index):\n",
    "        img_path = self.data[index]\n",
    "        label = self.targets[index]\n",
    "\n",
    "        img = Image.open(img_path).convert(\"RGB\")\n",
    "        img = self.transform(img)\n",
    "\n",
    "        return img, label\n",
    "    \n",
    "\n",
    "# Create custom torch Module\n",
    "class MyNN(nn.Module):\n",
    "    \"\"\"My brand new model\"\"\"\n",
    "\n",
    "    def __init__(self) -> None:\n",
    "        \"\"\"Model is a two layers and an activations\"\"\"\n",
    "        super().__init__()\n",
    "\n",
    "        # Reduce the number of output channels by 20%\n",
    "        self.conv1 = nn.Conv2d(\n",
    "            in_channels=3,  # Accept RGB images\n",
    "            out_channels=8,  # Reduced from 10 to 8\n",
    "            kernel_size=3,\n",
    "            padding=1\n",
    "        )\n",
    "        self.conv2 = nn.Conv2d(\n",
    "            in_channels=8,  # Match previous layer's output\n",
    "            out_channels=16,  # Reduced from 20 to 16\n",
    "            kernel_size=3,\n",
    "            padding=1\n",
    "        )\n",
    "        self.pool = nn.MaxPool2d(kernel_size=2, stride=2)\n",
    "        \n",
    "        # Reduce the size of the fully connected layers further\n",
    "        self.fc1 = nn.Linear(\n",
    "            in_features=16 * 8 * 8,  # Adjusted for the reduced number of output channels\n",
    "            out_features=50  # Further reduced from 80 to 50\n",
    "        )\n",
    "        self.fc2 = nn.Linear(\n",
    "            in_features=50,  # Match previous layer's reduced output\n",
    "            out_features=2  # Output size for classification remains the same\n",
    "        )\n",
    "        \n",
    "        self.relu = nn.ReLU()\n",
    "        self.flatten = nn.Flatten()\n",
    "\n",
    "\n",
    "    def forward(self, x: na.NadaArray) -> na.NadaArray:\n",
    "        \"\"\"My forward pass logic\"\"\"\n",
    "        x = self.relu(self.conv1(x))\n",
    "        x = self.pool(self.relu(self.conv2(x)))\n",
    "        x = self.flatten(x)\n",
    "        x = self.relu(self.fc1(x))\n",
    "        x = self.fc2(x)\n",
    "        return x\n",
    "\n",
    "my_model = MyNN()\n",
    "\n",
    "\n",
    "dataset = MelanomaDataset(\n",
    "    os.path.join(\"src/data\", \"train\"),\n",
    "    \n",
    "    transform=transforms.Compose(\n",
    "        [\n",
    "            # transforms.Grayscale(),\n",
    "            transforms.Resize((16, 16)),\n",
    "            transforms.ToTensor(),\n",
    "        ]\n",
    "    ),\n",
    ")\n",
    "trainset, testset = torch.utils.data.random_split(dataset, [0.8, 0.2])\n",
    "trainloader = torch.utils.data.DataLoader(trainset, batch_size=16, shuffle=True)\n",
    "testloader = torch.utils.data.DataLoader(testset, batch_size=16, shuffle=True)\n",
    "\n",
    "loss_function = nn.CrossEntropyLoss()\n",
    "optimizer = torch.optim.AdamW(my_model.parameters(), lr=1e-4)\n",
    "\n",
    "\n",
    "accuracies, losses = [], []\n",
    "for epoch in range(20):\n",
    "    print(f\"Starting epoch {epoch+1}...\")\n",
    "\n",
    "    incorrect, correct = 0, 0\n",
    "    current_loss = 0\n",
    "    for i, data in enumerate(trainloader):\n",
    "        inputs, targets = data\n",
    "\n",
    "        optimizer.zero_grad()\n",
    "\n",
    "        outputs = my_model(inputs)\n",
    "        loss = loss_function(outputs, targets)\n",
    "\n",
    "        preds = torch.argmax(outputs, axis=1)\n",
    "\n",
    "        correct += (preds == targets).float().sum()\n",
    "        incorrect += (preds != targets).float().sum()\n",
    "\n",
    "        loss.backward()\n",
    "        optimizer.step()\n",
    "\n",
    "        current_loss += loss.item()\n",
    "        if i % 100 == 99:\n",
    "            accuracy = 100 * correct / (incorrect + correct)\n",
    "            accuracies.append(accuracy)\n",
    "\n",
    "            print(\"Loss after mini-batch %5d: %.3f\" % (i + 1, current_loss / 100))\n",
    "            losses.append(current_loss / 100)\n",
    "            print(\"Accuracy after mini-batch %5d: %.3f\" % (i + 1, accuracy))\n",
    "\n",
    "            correct, incorrect = 0, 0\n",
    "            current_loss = 0"
   ]
  },
  {
   "cell_type": "code",
   "execution_count": 385,
   "metadata": {},
   "outputs": [
    {
     "data": {
      "image/png": "[encoded data removed]",
      "text/plain": [
       "<Figure size 1200x600 with 2 Axes>"
      ]
     },
     "metadata": {},
     "output_type": "display_data"
    }
   ],
   "source": [
    "fig, (ax1, ax2) = plt.subplots(1, 2, figsize=(12, 6))\n",
    "\n",
    "# Plot for accuracies\n",
    "ax1.plot(accuracies)\n",
    "ax1.set_title('Accuracy Over Iterations')\n",
    "ax1.set_xlabel('Iterations')\n",
    "ax1.set_ylabel('Accuracy')\n",
    "ax1.grid(True)\n",
    "\n",
    "# Plot for losses\n",
    "ax2.plot(losses)\n",
    "ax2.set_title('Loss Over Iterations')\n",
    "ax2.set_xlabel('Iterations')\n",
    "ax2.set_ylabel('Loss')\n",
    "ax2.grid(True)\n",
    "\n",
    "plt.tight_layout()\n",
    "plt.show()"
   ]
  },
  {
   "cell_type": "code",
   "execution_count": 350,
   "metadata": {},
   "outputs": [],
   "source": [
    "y_pred = []\n",
    "y_true = []\n",
    "for i, data in enumerate(testloader):\n",
    "    inputs, targets = data\n",
    "\n",
    "    outputs = my_model(inputs)\n",
    "    preds = torch.argmax(outputs, axis=1)\n",
    "\n",
    "    y_pred.extend(preds.tolist())\n",
    "    y_true.extend(targets.tolist())"
   ]
  },
  {
   "cell_type": "code",
   "execution_count": 404,
   "metadata": {},
   "outputs": [
    {
     "name": "stdout",
     "output_type": "stream",
     "text": [
      "tensor([[-0.3806,  0.1852]], grad_fn=<AddmmBackward0>)\n"
     ]
    },
    {
     "data": {
      "text/plain": [
       "tensor([1])"
      ]
     },
     "execution_count": 404,
     "metadata": {},
     "output_type": "execute_result"
    }
   ],
   "source": [
    "\n",
    "outputs= my_model(testloader.dataset[0][0].unsqueeze(0))\n",
    "print(outputs)\n",
    "torch.argmax(outputs, axis=1)\n"
   ]
  },
  {
   "cell_type": "code",
   "execution_count": 351,
   "metadata": {},
   "outputs": [
    {
     "name": "stdout",
     "output_type": "stream",
     "text": [
      "precision: 90.239%\n",
      "recall: 74.419%\n",
      "f1: 81.569%\n",
      "support: 1118\n",
      "accuracy: 86.0625\n"
     ]
    }
   ],
   "source": [
    "precision, recall, f1, support = precision_recall_fscore_support(y_true, y_pred)\n",
    "print(\"precision: {:.3f}%\".format(precision[1] * 100))\n",
    "print(\"recall: {:.3f}%\".format(recall[1] * 100))\n",
    "print(\"f1: {:.3f}%\".format(f1[1] * 100))\n",
    "print(\"support: {}\".format(support[1]))\n",
    "print(\"accuracy: {}\".format(accuracy))"
   ]
  },
  {
   "cell_type": "code",
   "execution_count": 353,
   "metadata": {},
   "outputs": [
    {
     "data": {
      "text/plain": [
       "<sklearn.metrics._plot.confusion_matrix.ConfusionMatrixDisplay at 0x3557a01a0>"
      ]
     },
     "execution_count": 353,
     "metadata": {},
     "output_type": "execute_result"
    },
    {
     "data": {
      "image/png": "[encoded data removed]",
      "text/plain": [
       "<Figure size 640x480 with 2 Axes>"
      ]
     },
     "metadata": {},
     "output_type": "display_data"
    }
   ],
   "source": [
    "disp = ConfusionMatrixDisplay(confusion_matrix(y_true, y_pred), )\n",
    "disp.plot()"
   ]
  },
  {
   "cell_type": "markdown",
   "metadata": {},
   "source": [
    "## Model Provider flow"
   ]
  },
  {
   "cell_type": "markdown",
   "metadata": {},
   "source": [
    "### Authenticate with Nillion"
   ]
  },
  {
   "cell_type": "markdown",
   "metadata": {},
   "source": [
    "To connect to the Nillion network, we need to have a user key and a node key. These serve different purposes:\n",
    "\n",
    "The `user_key` is the user's private key. The user key should never be shared publicly, as it unlocks access and permissions to secrets stored on the network.\n",
    "\n",
    "The `node_key` is the node's private key which is run locally to connect to the network."
   ]
  },
  {
   "cell_type": "code",
   "execution_count": 354,
   "metadata": {},
   "outputs": [
    {
     "data": {
      "text/plain": [
       "'/Users/ennriqe/Desktop/ETH-global-Melanoma-pred/quickstart/nada_quickstart_programs'"
      ]
     },
     "execution_count": 354,
     "metadata": {},
     "output_type": "execute_result"
    }
   ],
   "source": [
    "os.getcwd()"
   ]
  },
  {
   "cell_type": "code",
   "execution_count": 355,
   "metadata": {},
   "outputs": [
    {
     "name": "stdout",
     "output_type": "stream",
     "text": [
      "b13880d3-dde8-4a75-a171-8a1a9d985e6c\n",
      "b13880d3-dde8-4a75-a171-8a1a9d985e6c\n"
     ]
    }
   ],
   "source": [
    "# Load all Nillion network environment variables\n",
    "os.getcwd()\n",
    "assert os.getcwd().endswith(\n",
    "    \"nada_quickstart_programs\"\n",
    "), \"Please run this script from the examples/multi_layer_perceptron directory otherwise, the rest of the tutorial may not work\"\n",
    "load_dotenv()\n",
    "print(os.getenv(\"NILLION_CLUSTER_ID\"))\n",
    "dotenv_path = '/home/brglt/Desktop/nillion/quickstart/nada_quickstart_programs/.env'\n",
    "load_dotenv(dotenv_path)\n",
    "print(os.getenv(\"NILLION_CLUSTER_ID\"))"
   ]
  },
  {
   "cell_type": "code",
   "execution_count": 356,
   "metadata": {},
   "outputs": [
    {
     "name": "stdout",
     "output_type": "stream",
     "text": [
      "b13880d3-dde8-4a75-a171-8a1a9d985e6c\n"
     ]
    }
   ],
   "source": [
    "print(os.getenv(\"NILLION_CLUSTER_ID\"))"
   ]
  },
  {
   "cell_type": "code",
   "execution_count": 357,
   "metadata": {},
   "outputs": [],
   "source": [
    "cluster_id = os.getenv(\"NILLION_CLUSTER_ID\")\n",
    "grpc_endpoint = os.getenv(\"NILLION_NILCHAIN_GRPC\")\n",
    "chain_id = os.getenv(\"NILLION_NILCHAIN_CHAIN_ID\")\n",
    "import random\n",
    "\n",
    "import random\n",
    "\n",
    "\n",
    "seed = str(random.randint(1, 1000))\n",
    "model_provider_userkey = UserKey.from_seed((seed))\n",
    "model_provider_nodekey = NodeKey.from_seed((seed))\n",
    "model_provider_client = create_nillion_client(model_provider_userkey, model_provider_nodekey)\n",
    "model_provider_party_id = model_provider_client.party_id\n",
    "model_provider_user_id = model_provider_client.user_id"
   ]
  },
  {
   "cell_type": "code",
   "execution_count": 358,
   "metadata": {},
   "outputs": [
    {
     "name": "stdout",
     "output_type": "stream",
     "text": [
      "COMMAND_MODE: unix2003\n",
      "CONDA_DEFAULT_ENV: base\n",
      "CONDA_EXE: /Users/ennriqe/miniforge3/bin/conda\n",
      "CONDA_PREFIX: /Users/ennriqe/miniforge3\n",
      "CONDA_PROMPT_MODIFIER: (base) \n",
      "CONDA_PYTHON_EXE: /Users/ennriqe/miniforge3/bin/python\n",
      "CONDA_SHLVL: 1\n",
      "HOME: /Users/ennriqe\n",
      "HOMEBREW_CELLAR: /opt/homebrew/Cellar\n",
      "HOMEBREW_PREFIX: /opt/homebrew\n",
      "HOMEBREW_REPOSITORY: /opt/homebrew\n",
      "INFOPATH: /opt/homebrew/share/info:\n",
      "LOGNAME: ennriqe\n",
      "LaunchInstanceID: 019DBAD0-247F-4090-B5EB-7C0582AAFD62\n",
      "MANPATH: /Users/ennriqe/.nvm/versions/node/v18.20.3/share/man:/opt/homebrew/share/man::\n",
      "MallocNanoZone: 0\n",
      "NVM_BIN: /Users/ennriqe/.nvm/versions/node/v18.20.3/bin\n",
      "NVM_CD_FLAGS: -q\n",
      "NVM_DIR: /Users/ennriqe/.nvm\n",
      "NVM_INC: /Users/ennriqe/.nvm/versions/node/v18.20.3/include/node\n",
      "OLDPWD: /\n",
      "ORIGINAL_XDG_CURRENT_DESKTOP: undefined\n",
      "PATH: /Users/ennriqe/Desktop/ETH-global-Melanoma-pred/.venv/bin:/opt/homebrew/opt/tesseract/bin:/Users/ennriqe/miniforge3/bin:/Users/ennriqe/miniforge3/condabin:/Users/ennriqe/.nvm/versions/node/v18.20.3/bin:/opt/homebrew/opt/python@3.11/bin:/opt/homebrew/bin:/opt/homebrew/sbin:/usr/local/bin:/System/Cryptexes/App/usr/bin:/usr/bin:/bin:/usr/sbin:/sbin:/var/run/com.apple.security.cryptexd/codex.system/bootstrap/usr/local/bin:/var/run/com.apple.security.cryptexd/codex.system/bootstrap/usr/bin:/var/run/com.apple.security.cryptexd/codex.system/bootstrap/usr/appleinternal/bin:/Users/ennriqe/.cargo/bin:/Users/ennriqe/Library/Application Support/org.dfinity.dfx/bin:/Users/ennriqe/.nilup/bin\n",
      "PWD: /\n",
      "SECURITYSESSIONID: 186b2\n",
      "SHELL: /bin/zsh\n",
      "SHLVL: 1\n",
      "SSH_AUTH_SOCK: /private/tmp/com.apple.launchd.FoPOfYczLN/Listeners\n",
      "TMPDIR: /var/folders/vs/v2spybcx4wz_xfk2dbj37g0c0000gn/T/\n",
      "USER: ennriqe\n",
      "VSCODE_AMD_ENTRYPOINT: vs/workbench/api/node/extensionHostProcess\n",
      "VSCODE_CODE_CACHE_PATH: /Users/ennriqe/Library/Application Support/Code/CachedData/5437499feb04f7a586f677b155b039bc2b3669eb\n",
      "VSCODE_CRASH_REPORTER_PROCESS_TYPE: extensionHost\n",
      "VSCODE_CWD: /\n",
      "VSCODE_HANDLES_UNCAUGHT_ERRORS: true\n",
      "VSCODE_IPC_HOOK: /Users/ennriqe/Library/Application Support/Code/1.90-main.sock\n",
      "VSCODE_NLS_CONFIG: {\"locale\":\"en-us\",\"osLocale\":\"en-us\",\"availableLanguages\":{},\"_languagePackSupport\":true}\n",
      "VSCODE_PID: 633\n",
      "XML_CATALOG_FILES: file:///Users/ennriqe/miniforge3/etc/xml/catalog file:///etc/xml/catalog\n",
      "XPC_FLAGS: 0x0\n",
      "XPC_SERVICE_NAME: 0\n",
      "_: /Users/ennriqe/Desktop/ETH-global-Melanoma-pred/.venv/bin/python\n",
      "__CFBundleIdentifier: com.microsoft.VSCode\n",
      "__CF_USER_TEXT_ENCODING: 0x1F5:0x0:0x0\n",
      "dfk: a20ee74a222f7a32b25e0a4278207cdc7d7e5b5ea9bc52c43fef3d48911cc0f7\n",
      "ELECTRON_RUN_AS_NODE: 1\n",
      "VSCODE_L10N_BUNDLE_LOCATION: \n",
      "PYTHONUNBUFFERED: 1\n",
      "PYTHONIOENCODING: utf-8\n",
      "VIRTUAL_ENV: /Users/ennriqe/Desktop/ETH-global-Melanoma-pred/.venv\n",
      "PS1: (.venv) \n",
      "VIRTUAL_ENV_PROMPT: (.venv) \n",
      "LC_CTYPE: UTF-8\n",
      "PYDEVD_IPYTHON_COMPATIBLE_DEBUGGING: 1\n",
      "PYTHON_FROZEN_MODULES: on\n",
      "PYDEVD_USE_FRAME_EVAL: NO\n",
      "TERM: xterm-color\n",
      "CLICOLOR: 1\n",
      "FORCE_COLOR: 1\n",
      "CLICOLOR_FORCE: 1\n",
      "PAGER: cat\n",
      "GIT_PAGER: cat\n",
      "MPLBACKEND: module://matplotlib_inline.backend_inline\n",
      "KMP_DUPLICATE_LIB_OK: True\n",
      "KMP_INIT_AT_FORK: FALSE\n",
      "NILLION_CLUSTER_ID: b13880d3-dde8-4a75-a171-8a1a9d985e6c\n",
      "NILLION_BOOTNODE_MULTIADDRESS: /dns/node-1.testnet-photon.nillion-network.nilogy.xyz/tcp/14111/p2p/12D3KooWCfFYAb77NCjEk711e9BVe2E6mrasPZTtAjJAPtVAdbye\n",
      "NILLION_BOOTNODE_WEBSOCKET: /dns/node-1.testnet-photon.nillion-network.nilogy.xyz/tcp/14211/wss/p2p/12D3KooWCfFYAb77NCjEk711e9BVe2E6mrasPZTtAjJAPtVAdbye\n",
      "NILLION_NILCHAIN_CHAIN_ID: nillion-chain-testnet-1\n",
      "NILLION_NILCHAIN_JSON_RPC: http://65.109.222.111:26657/\n",
      "NILLION_NILCHAIN_REST_API: http://65.109.222.111:26657/\n",
      "NILLION_NILCHAIN_GRPC: 65.109.228.73:9090\n",
      "NILLION_NILCHAIN_PRIVATE_KEY_0: ced2978a79df1781fabc55ec395297d2ab0337b1e1d5346f99a9a108bea4c0dc\n"
     ]
    }
   ],
   "source": [
    "env_vars = {key: os.getenv(key) for key in os.environ.keys()}\n",
    "\n",
    "# Print the environment variables\n",
    "for key, value in env_vars.items():\n",
    "    print(f'{key}: {value}')"
   ]
  },
  {
   "cell_type": "code",
   "execution_count": 359,
   "metadata": {},
   "outputs": [
    {
     "data": {
      "text/plain": [
       "('b13880d3-dde8-4a75-a171-8a1a9d985e6c',\n",
       " '65.109.228.73:9090',\n",
       " 'nillion-chain-testnet-1',\n",
       " '12D3KooWEGR33yoXBs8PM6AP7qHYhS5bM7LMyTF7GnQ1UB7vz4bS')"
      ]
     },
     "execution_count": 359,
     "metadata": {},
     "output_type": "execute_result"
    }
   ],
   "source": [
    "cluster_id, grpc_endpoint, chain_id, model_provider_party_id"
   ]
  },
  {
   "cell_type": "code",
   "execution_count": 361,
   "metadata": {},
   "outputs": [],
   "source": [
    "!pynadac src/multy_percep.py"
   ]
  },
  {
   "cell_type": "code",
   "execution_count": 362,
   "metadata": {},
   "outputs": [],
   "source": [
    "party_names = [\"Provider\", \"User\"]\n",
    "program_name = \"multy_percep\"\n",
    "program_mir_path = f\"{program_name}.nada.bin\""
   ]
  },
  {
   "cell_type": "code",
   "execution_count": 365,
   "metadata": {},
   "outputs": [],
   "source": [
    "payments_config = create_payments_config(chain_id, grpc_endpoint)\n",
    "payments_client = LedgerClient(payments_config)\n",
    "payments_wallet = LocalWallet(\n",
    "    PrivateKey(bytes.fromhex(os.getenv(\"NILLION_NILCHAIN_PRIVATE_KEY_0\"))),\n",
    "    prefix=\"nillion\",\n",
    ")"
   ]
  },
  {
   "cell_type": "markdown",
   "metadata": {},
   "source": [
    "### Upload Nada program to Nillion"
   ]
  },
  {
   "cell_type": "markdown",
   "metadata": {},
   "source": [
    "TODO: explain what the Nada program does"
   ]
  },
  {
   "cell_type": "code",
   "execution_count": 369,
   "metadata": {},
   "outputs": [
    {
     "name": "stdout",
     "output_type": "stream",
     "text": [
      "Getting quote for operation...\n",
      "Submitting payment receipt 2 unil, tx hash 57A97BDFFC5B4FFB2CE6C541DB1B7E9905C424DE9AAE68C4D4377E969B636729\n",
      "Stored program. action_id: 3oYsBgWTNt3p7L4jJ5nwYVTGAHGGDhnvcrhU2Vv4HCD1auj7ssc8zmKMZSvt1w3gtRaw7KRRuKBjPZXs2bfCoZmb/multy_percep\n",
      "Stored program_id: 3oYsBgWTNt3p7L4jJ5nwYVTGAHGGDhnvcrhU2Vv4HCD1auj7ssc8zmKMZSvt1w3gtRaw7KRRuKBjPZXs2bfCoZmb/multy_percep\n"
     ]
    }
   ],
   "source": [
    "program_id = await store_program(\n",
    "    model_provider_client,\n",
    "    payments_wallet,\n",
    "    payments_client,\n",
    "    model_provider_user_id,\n",
    "    cluster_id,\n",
    "    program_name,\n",
    "    program_mir_path,)"
   ]
  },
  {
   "cell_type": "markdown",
   "metadata": {},
   "source": [
    "### Upload weights to Nillion network"
   ]
  },
  {
   "cell_type": "code",
   "execution_count": 371,
   "metadata": {},
   "outputs": [],
   "source": [
    "# Create and store model secrets via ModelClient\n",
    "model_client = TorchClient(my_model)"
   ]
  },
  {
   "cell_type": "code",
   "execution_count": 374,
   "metadata": {},
   "outputs": [
    {
     "name": "stdout",
     "output_type": "stream",
     "text": [
      "52744 weights\n",
      "Getting quote for operation...\n",
      "Quote cost is 5063426 unil\n",
      "Submitting payment receipt 5063426 unil, tx hash 2CE9284150C73EA52FACCBAC97CD13B0E22D2476CC939EF944A9D381A0E27686\n"
     ]
    }
   ],
   "source": [
    "model_secrets = nillion.NadaValues(\n",
    "    model_client.export_state_as_secrets(\"my_nn\", na.SecretRational)\n",
    ")\n",
    "print(len(model_secrets.dict()), 'weights')\n",
    "permissions = nillion.Permissions.default_for_user(model_provider_client.user_id)\n",
    "permissions.add_compute_permissions({\"2uxrE2XK5kLXH5hCDRa6Ksrsj4Uw2H74uL9fqZeqq9h9SRt8X3Ute2M5pciusHEKgyKyXSjSNQWUuR5kNBc4D56C\": {program_id}})\n",
    "\n",
    "model_store_id = await store_secrets(\n",
    "    model_provider_client,\n",
    "    payments_wallet,\n",
    "    payments_client,\n",
    "    cluster_id,\n",
    "    model_secrets,\n",
    "    1,\n",
    "    permissions,\n",
    ")"
   ]
  },
  {
   "cell_type": "code",
   "execution_count": 376,
   "metadata": {},
   "outputs": [],
   "source": [
    "# This information is needed by the model user\n",
    "with open(\"src/data/tmp.json\", \"w\") as provider_variables_file:\n",
    "    provider_variables = {\n",
    "        \"program_id\": program_id,\n",
    "        \"model_store_id\": model_store_id,\n",
    "        \"model_provider_party_id\": model_provider_party_id,\n",
    "    }\n",
    "    json.dump(provider_variables, provider_variables_file)"
   ]
  },
  {
   "cell_type": "code",
   "execution_count": 377,
   "metadata": {},
   "outputs": [],
   "source": [
    "torch.save(my_model.state_dict(), \"src/data/my_model.pt\")"
   ]
  },
  {
   "cell_type": "code",
   "execution_count": null,
   "metadata": {},
   "outputs": [],
   "source": []
  }
 ],
 "metadata": {
  "kernelspec": {
   "display_name": "Python 3 (ipykernel)",
   "language": "python",
   "name": "python3"
  },
  "language_info": {
   "codemirror_mode": {
    "name": "ipython",
    "version": 3
   },
   "file_extension": ".py",
   "mimetype": "text/x-python",
   "name": "python",
   "nbconvert_exporter": "python",
   "pygments_lexer": "ipython3",
   "version": "3.7.11"
  }
 },
 "nbformat": 4,
 "nbformat_minor": 2
}
